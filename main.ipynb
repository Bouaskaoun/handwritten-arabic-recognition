{
 "cells": [
  {
   "cell_type": "code",
   "execution_count": 2,
   "metadata": {},
   "outputs": [],
   "source": [
    "import os\n",
    "import numpy as np\n",
    "from matplotlib import pyplot as plt\n",
    "from PIL import Image, ImageChops\n",
    "import cv2\n",
    "from skimage.morphology import skeletonize, binary_closing"
   ]
  },
  {
   "cell_type": "code",
   "execution_count": 2,
   "metadata": {},
   "outputs": [],
   "source": [
    "def convert_to_binary(image_path):\n",
    "    # Open the image\n",
    "    im = Image.open(image_path)\n",
    "\n",
    "    # Convert the image to grayscale\n",
    "    im = im.convert(\"L\")\n",
    "\n",
    "    # Adjust the contrast\n",
    "    im = im.point(lambda x: 0 if x<128 else 255, \"1\")\n",
    "\n",
    "    return im"
   ]
  },
  {
   "cell_type": "code",
   "execution_count": 3,
   "metadata": {},
   "outputs": [],
   "source": [
    "def main():\n",
    "    # List of folders\n",
    "    folders = [\"data/{:01d}\".format(x) for x in range(32)]\n",
    "\n",
    "    # Iterate through the folders\n",
    "    for folder in folders:\n",
    "        # Get a list of image file paths in the current folder\n",
    "        image_paths = [os.path.join(folder, f) for f in os.listdir(folder) if f.endswith(\".png\") or f.endswith(\".jpg\")]\n",
    "\n",
    "        # Iterate through the images\n",
    "        for image_path in image_paths:\n",
    "            # Convert the image to binary\n",
    "            binary_image = convert_to_binary(image_path)\n",
    "\n",
    "            # Save the binary image\n",
    "            binary_image.save(image_path.replace(\".png\", \".png\").replace(\".jpg\", \".png\"))"
   ]
  },
  {
   "cell_type": "code",
   "execution_count": 4,
   "metadata": {},
   "outputs": [],
   "source": [
    "def check_bianry_img(image):\n",
    "    \n",
    "    # Check the image's color mode\n",
    "    if image.mode == \"1\":\n",
    "        return \"Image is binary\"\n",
    "    else:\n",
    "        return \"Image is not binary\""
   ]
  },
  {
   "cell_type": "code",
   "execution_count": 5,
   "metadata": {},
   "outputs": [
    {
     "data": {
      "image/png": "[encoded data removed]",
      "text/plain": [
       "<Figure size 432x288 with 1 Axes>"
      ]
     },
     "metadata": {
      "needs_background": "light"
     },
     "output_type": "display_data"
    }
   ],
   "source": [
    "image = Image.open(\"data/11/1.png\").convert(\"L\")\n",
    "image_array = np.array(image)\n",
    "threshold = 128\n",
    "binary_image_array = np.where(image_array > threshold, 255, 0)\n",
    "vertical_histogram = np.sum(binary_image_array,axis=0)/255\n",
    "plt.plot(vertical_histogram)\n",
    "plt.show()"
   ]
  },
  {
   "cell_type": "code",
   "execution_count": 7,
   "metadata": {},
   "outputs": [
    {
     "ename": "AttributeError",
     "evalue": "'NoneType' object has no attribute 'mode'",
     "output_type": "error",
     "traceback": [
      "\u001b[1;31m---------------------------------------------------------------------------\u001b[0m",
      "\u001b[1;31mAttributeError\u001b[0m                            Traceback (most recent call last)",
      "\u001b[1;32m<ipython-input-7-ae698820451a>\u001b[0m in \u001b[0;36m<module>\u001b[1;34m\u001b[0m\n\u001b[0;32m      1\u001b[0m \u001b[1;31m# Load the image\u001b[0m\u001b[1;33m\u001b[0m\u001b[1;33m\u001b[0m\u001b[1;33m\u001b[0m\u001b[0m\n\u001b[0;32m      2\u001b[0m \u001b[0mimage\u001b[0m \u001b[1;33m=\u001b[0m \u001b[0mcv2\u001b[0m\u001b[1;33m.\u001b[0m\u001b[0mimread\u001b[0m\u001b[1;33m(\u001b[0m\u001b[1;34m'/isolated_alphabets_per_alphabet/ain_begin/user001_ain_begin_031.png'\u001b[0m\u001b[1;33m)\u001b[0m\u001b[1;33m\u001b[0m\u001b[1;33m\u001b[0m\u001b[0m\n\u001b[1;32m----> 3\u001b[1;33m \u001b[0mcheck_bianry_img\u001b[0m\u001b[1;33m(\u001b[0m\u001b[0mimage\u001b[0m\u001b[1;33m)\u001b[0m\u001b[1;33m\u001b[0m\u001b[1;33m\u001b[0m\u001b[0m\n\u001b[0m",
      "\u001b[1;32m<ipython-input-4-0012ab62ad7b>\u001b[0m in \u001b[0;36mcheck_bianry_img\u001b[1;34m(image)\u001b[0m\n\u001b[0;32m      2\u001b[0m \u001b[1;33m\u001b[0m\u001b[0m\n\u001b[0;32m      3\u001b[0m     \u001b[1;31m# Check the image's color mode\u001b[0m\u001b[1;33m\u001b[0m\u001b[1;33m\u001b[0m\u001b[1;33m\u001b[0m\u001b[0m\n\u001b[1;32m----> 4\u001b[1;33m     \u001b[1;32mif\u001b[0m \u001b[0mimage\u001b[0m\u001b[1;33m.\u001b[0m\u001b[0mmode\u001b[0m \u001b[1;33m==\u001b[0m \u001b[1;34m\"1\"\u001b[0m\u001b[1;33m:\u001b[0m\u001b[1;33m\u001b[0m\u001b[1;33m\u001b[0m\u001b[0m\n\u001b[0m\u001b[0;32m      5\u001b[0m         \u001b[1;32mreturn\u001b[0m \u001b[1;34m\"Image is binary\"\u001b[0m\u001b[1;33m\u001b[0m\u001b[1;33m\u001b[0m\u001b[0m\n\u001b[0;32m      6\u001b[0m     \u001b[1;32melse\u001b[0m\u001b[1;33m:\u001b[0m\u001b[1;33m\u001b[0m\u001b[1;33m\u001b[0m\u001b[0m\n",
      "\u001b[1;31mAttributeError\u001b[0m: 'NoneType' object has no attribute 'mode'"
     ]
    }
   ],
   "source": [
    "# Load the image\n",
    "image = cv2.imread('/isolated_alphabets_per_alphabet/ain_begin/user001_ain_begin_031.png')\n",
    "check_bianry_img(image)"
   ]
  },
  {
   "cell_type": "code",
   "execution_count": 5,
   "metadata": {},
   "outputs": [],
   "source": [
    "from PIL import Image\n",
    "\n",
    "def preprocess_image(image_path):\n",
    "    # Open the image\n",
    "    image = Image.open(image_path)\n",
    "\n",
    "    # Convert the image to grayscale\n",
    "    im = image.convert(\"L\")\n",
    "\n",
    "    # Adjust the contrast\n",
    "    im = im.point(lambda x: 0 if x<128 else 255, \"1\")\n",
    "    # Resize the image to a fixed size\n",
    "    Resized = im.resize((280, 128))\n",
    "  \n",
    "    # Return the preprocessed image as a NumPy array\n",
    "    return np.array(Resized, dtype=np.uint8)"
   ]
  },
  {
   "cell_type": "code",
   "execution_count": 100,
   "metadata": {},
   "outputs": [],
   "source": [
    "def trim(image):\n",
    "    image=Image.fromarray(image)\n",
    "    bg = Image.new(image.mode, image.size, image.getpixel((0,0))) # black background\n",
    "    diff = ImageChops.difference(image, bg)\n",
    "    diff = ImageChops.add(diff, diff, 2.0, -100)\n",
    "    bbox = diff.getbbox()\n",
    "    if bbox:\n",
    "        return np.array(image.crop(bbox))\n",
    "# cv2.INTER_AREA: examiner les pixels voisins et utiliser ces voisins pour augmenter ou diminuer optiquement la taille de l’image sans introduire de distorsions\n",
    "def image_resize(image, width = None, height = None, inter = cv2.INTER_AREA):\n",
    "    dim = None\n",
    "    (h, w) = image.shape[:2]\n",
    "    if width is None and height is None:\n",
    "        return image\n",
    "    if width is None:\n",
    "        r = height / float(h)\n",
    "        dim = (int(w * r), height)\n",
    "    else:\n",
    "        #r = width / float(w)\n",
    "        #dim = (width, int(h * r))\n",
    "        dim = (width,height)\n",
    "    resized = cv2.resize(image, dim, interpolation = inter)\n",
    "    return resized\n",
    "def cleaned_image(image):\n",
    "    bg=np.ones((28,28))\n",
    "    bg = bg*255\n",
    "    image=trim(image)\n",
    "    image=image_resize(image,height=28)\n",
    "    image_gray = cv2.cvtColor(image, cv2.COLOR_BGR2GRAY)\n",
    "    thresh, image_binary = cv2.threshold(image_gray, 128, 255, cv2.THRESH_BINARY + cv2.THRESH_OTSU)\n",
    "    hh, ww = bg.shape\n",
    "    h, w = image_binary.shape\n",
    "    yoff = round((hh-h)/2)\n",
    "    xoff = round((ww-w)/2)\n",
    "    if xoff<=0:\n",
    "        image=image_resize(image,height=28,width=28)\n",
    "        image_gray = cv2.cvtColor(image, cv2.COLOR_BGR2GRAY)\n",
    "        thresh, image_binary = cv2.threshold(image_gray, 128, 255, cv2.THRESH_BINARY + cv2.THRESH_OTSU)\n",
    "        h, w = image_binary.shape\n",
    "        yoff = round((hh-h)/2)\n",
    "        xoff = round((ww-w)/2)\n",
    "    result = bg.copy()\n",
    "    result[yoff:yoff+h, xoff:xoff+w] = image_binary\n",
    "    return result"
   ]
  },
  {
   "cell_type": "code",
   "execution_count": 108,
   "metadata": {},
   "outputs": [
    {
     "data": {
      "image/png": "[encoded data removed]",
      "text/plain": [
       "<Figure size 432x288 with 1 Axes>"
      ]
     },
     "metadata": {
      "needs_background": "light"
     },
     "output_type": "display_data"
    },
    {
     "data": {
      "image/png": "[encoded data removed]",
      "text/plain": [
       "<Figure size 432x288 with 1 Axes>"
      ]
     },
     "metadata": {
      "needs_background": "light"
     },
     "output_type": "display_data"
    }
   ],
   "source": [
    "# Open the image\n",
    "image_path = 'isolated_alphabets_per_alphabet/noon_end/user002_noon_end_021.png'\n",
    "#image = Image.open(image_path)\n",
    "image = cv2.imread(image_path)\n",
    "(h, w) = image.shape[:2]\n",
    "bg=np.ones((28,28))\n",
    "bg = bg*255\n",
    "image=trim(image)\n",
    "image=image_resize(image,height=28)\n",
    "image_gray = cv2.cvtColor(image, cv2.COLOR_BGR2GRAY)\n",
    "thresh, image_binary = cv2.threshold(image_gray, 128, 255, cv2.THRESH_BINARY + cv2.THRESH_OTSU)\n",
    "hh, ww = bg.shape\n",
    "h, w = image_binary.shape\n",
    "yoff = round((hh-h)/2)\n",
    "xoff = round((ww-w)/2)\n",
    "if xoff<=0:\n",
    "    image=image_resize(image,height=28,width=28)\n",
    "    image_gray = cv2.cvtColor(image, cv2.COLOR_BGR2GRAY)\n",
    "    thresh, image_binary = cv2.threshold(image_gray, 128, 255, cv2.THRESH_BINARY + cv2.THRESH_OTSU)\n",
    "    h, w = image_binary.shape\n",
    "    yoff = round((hh-h)/2)\n",
    "    xoff = round((ww-w)/2)\n",
    "result = bg.copy()\n",
    "result[yoff:yoff+h, xoff:xoff+w] = image_binary\n",
    "plt.imshow(image)\n",
    "plt.title('Image')\n",
    "plt.show()\n",
    "plt.imshow(cleaned_image(image))\n",
    "plt.title('Image')\n",
    "plt.show()"
   ]
  },
  {
   "cell_type": "code",
   "execution_count": 50,
   "metadata": {},
   "outputs": [
    {
     "data": {
      "image/png": "[encoded data removed]",
      "text/plain": [
       "<Figure size 432x288 with 1 Axes>"
      ]
     },
     "metadata": {
      "needs_background": "light"
     },
     "output_type": "display_data"
    },
    {
     "data": {
      "image/png": "[encoded data removed]",
      "text/plain": [
       "<Figure size 432x288 with 1 Axes>"
      ]
     },
     "metadata": {
      "needs_background": "light"
     },
     "output_type": "display_data"
    }
   ],
   "source": [
    "image = Image.open('isolated_alphabets_per_alphabet/ain_begin/user001_ain_begin_031.png')\n",
    "# Convert the image to grayscale\n",
    "img = image.convert(\"L\")\n",
    "# Adjust the contrast\n",
    "img = img.point(lambda x: 0 if x>128 else 255, \"1\")\n",
    "# Resize the image to a fixed size\n",
    "image_resized = img.resize((280, 128))\n",
    "\n",
    "\n",
    "plt.imshow(image)\n",
    "plt.title('Image')\n",
    "plt.show()\n",
    "plt.imshow(image_resized)\n",
    "plt.title('Image')\n",
    "plt.show()"
   ]
  },
  {
   "cell_type": "code",
   "execution_count": 52,
   "metadata": {},
   "outputs": [
    {
     "name": "stdout",
     "output_type": "stream",
     "text": [
      "False\n"
     ]
    }
   ],
   "source": [
    "array = preprocess_image(image_path)\n",
    "result = np.any(np.logical_and(array != 0, array != 1))\n",
    "\n",
    "print(result) "
   ]
  },
  {
   "cell_type": "code",
   "execution_count": 55,
   "metadata": {
    "collapsed": true,
    "jupyter": {
     "outputs_hidden": true
    }
   },
   "outputs": [
    {
     "data": {
      "text/plain": [
       "['isolated_alphabets_per_alphabet',\n",
       " 'isolated_alphabets_per_alphabet\\\\ain_begin',\n",
       " 'isolated_alphabets_per_alphabet\\\\ain_end',\n",
       " 'isolated_alphabets_per_alphabet\\\\ain_middle',\n",
       " 'isolated_alphabets_per_alphabet\\\\ain_regular',\n",
       " 'isolated_alphabets_per_alphabet\\\\alif_end',\n",
       " 'isolated_alphabets_per_alphabet\\\\alif_hamza',\n",
       " 'isolated_alphabets_per_alphabet\\\\alif_regular',\n",
       " 'isolated_alphabets_per_alphabet\\\\beh_begin',\n",
       " 'isolated_alphabets_per_alphabet\\\\beh_end',\n",
       " 'isolated_alphabets_per_alphabet\\\\beh_middle',\n",
       " 'isolated_alphabets_per_alphabet\\\\beh_regular',\n",
       " 'isolated_alphabets_per_alphabet\\\\dal_end',\n",
       " 'isolated_alphabets_per_alphabet\\\\dal_regular',\n",
       " 'isolated_alphabets_per_alphabet\\\\feh_begin',\n",
       " 'isolated_alphabets_per_alphabet\\\\feh_end',\n",
       " 'isolated_alphabets_per_alphabet\\\\feh_middle',\n",
       " 'isolated_alphabets_per_alphabet\\\\feh_regular',\n",
       " 'isolated_alphabets_per_alphabet\\\\heh_begin',\n",
       " 'isolated_alphabets_per_alphabet\\\\heh_end',\n",
       " 'isolated_alphabets_per_alphabet\\\\heh_middle',\n",
       " 'isolated_alphabets_per_alphabet\\\\heh_regular',\n",
       " 'isolated_alphabets_per_alphabet\\\\jeem_begin',\n",
       " 'isolated_alphabets_per_alphabet\\\\jeem_end',\n",
       " 'isolated_alphabets_per_alphabet\\\\jeem_middle',\n",
       " 'isolated_alphabets_per_alphabet\\\\jeem_regular',\n",
       " 'isolated_alphabets_per_alphabet\\\\kaf_begin',\n",
       " 'isolated_alphabets_per_alphabet\\\\kaf_end',\n",
       " 'isolated_alphabets_per_alphabet\\\\kaf_middle',\n",
       " 'isolated_alphabets_per_alphabet\\\\kaf_regular',\n",
       " 'isolated_alphabets_per_alphabet\\\\lam_alif',\n",
       " 'isolated_alphabets_per_alphabet\\\\lam_begin',\n",
       " 'isolated_alphabets_per_alphabet\\\\lam_end',\n",
       " 'isolated_alphabets_per_alphabet\\\\lam_middle',\n",
       " 'isolated_alphabets_per_alphabet\\\\lam_regular',\n",
       " 'isolated_alphabets_per_alphabet\\\\meem_begin',\n",
       " 'isolated_alphabets_per_alphabet\\\\meem_end',\n",
       " 'isolated_alphabets_per_alphabet\\\\meem_middle',\n",
       " 'isolated_alphabets_per_alphabet\\\\meem_regular',\n",
       " 'isolated_alphabets_per_alphabet\\\\noon_begin',\n",
       " 'isolated_alphabets_per_alphabet\\\\noon_end',\n",
       " 'isolated_alphabets_per_alphabet\\\\noon_middle',\n",
       " 'isolated_alphabets_per_alphabet\\\\noon_regular',\n",
       " 'isolated_alphabets_per_alphabet\\\\qaf_begin',\n",
       " 'isolated_alphabets_per_alphabet\\\\qaf_end',\n",
       " 'isolated_alphabets_per_alphabet\\\\qaf_middle',\n",
       " 'isolated_alphabets_per_alphabet\\\\qaf_regular',\n",
       " 'isolated_alphabets_per_alphabet\\\\raa_end',\n",
       " 'isolated_alphabets_per_alphabet\\\\raa_regular',\n",
       " 'isolated_alphabets_per_alphabet\\\\sad_begin',\n",
       " 'isolated_alphabets_per_alphabet\\\\sad_end',\n",
       " 'isolated_alphabets_per_alphabet\\\\sad_middle',\n",
       " 'isolated_alphabets_per_alphabet\\\\sad_regular',\n",
       " 'isolated_alphabets_per_alphabet\\\\seen_begin',\n",
       " 'isolated_alphabets_per_alphabet\\\\seen_end',\n",
       " 'isolated_alphabets_per_alphabet\\\\seen_middle',\n",
       " 'isolated_alphabets_per_alphabet\\\\seen_regular',\n",
       " 'isolated_alphabets_per_alphabet\\\\tah_end',\n",
       " 'isolated_alphabets_per_alphabet\\\\tah_middle',\n",
       " 'isolated_alphabets_per_alphabet\\\\tah_regular',\n",
       " 'isolated_alphabets_per_alphabet\\\\waw_end',\n",
       " 'isolated_alphabets_per_alphabet\\\\waw_regular',\n",
       " 'isolated_alphabets_per_alphabet\\\\yaa_begin',\n",
       " 'isolated_alphabets_per_alphabet\\\\yaa_end',\n",
       " 'isolated_alphabets_per_alphabet\\\\yaa_middle',\n",
       " 'isolated_alphabets_per_alphabet\\\\yaa_regular']"
      ]
     },
     "execution_count": 55,
     "metadata": {},
     "output_type": "execute_result"
    }
   ],
   "source": [
    "[x[0] for x in os.walk('isolated_alphabets_per_alphabet')]"
   ]
  },
  {
   "cell_type": "code",
   "execution_count": 9,
   "metadata": {},
   "outputs": [
    {
     "name": "stdout",
     "output_type": "stream",
     "text": [
      "['ain_begin', 'ain_end', 'ain_middle', 'ain_regular', 'alif_end', 'alif_hamza', 'alif_regular', 'beh_begin', 'beh_end', 'beh_middle']\n"
     ]
    }
   ],
   "source": [
    "dir_list = os.listdir('isolated_alphabets_per_alphabet')\n",
    "# prints all files\n",
    "print(dir_list)"
   ]
  },
  {
   "cell_type": "code",
   "execution_count": 60,
   "metadata": {},
   "outputs": [],
   "source": [
    "import numpy as np\n",
    "import pandas as pd\n",
    "\n",
    "# Create a list of binary images\n",
    "binary_images = ['isolated_alphabets_per_alphabet/jeem_middle/user001_jeem_middle_013.png', 'isolated_alphabets_per_alphabet/jeem_middle/user001_jeem_middle_013.png']\n",
    "\n",
    "# Create an empty list to store the numerical representation of the images\n",
    "image_data = []\n",
    "\n",
    "# Iterate through the list of binary images\n",
    "for image in binary_images:\n",
    "    img = Image.open(image_path)\n",
    "    # Convert the image to grayscale\n",
    "    im = img.convert(\"L\")\n",
    "\n",
    "    # Adjust the contrast\n",
    "    im = im.point(lambda x: 0 if x<128 else 255, \"1\")\n",
    "    # Resize the image to a fixed size\n",
    "    resized = im.resize((280, 128))\n",
    "    image_bytes = resized.tobytes()\n",
    "    # Convert the binary image to a numpy array\n",
    "    image_array = np.frombuffer(image_bytes, dtype=np.uint8)\n",
    "    # Add the image array to the list of image data\n",
    "    image_data.append(image_array)\n",
    "\n",
    "# Convert the list of image data to a data frame\n",
    "df = pd.DataFrame(image_data)\n"
   ]
  },
  {
   "cell_type": "code",
   "execution_count": 61,
   "metadata": {},
   "outputs": [
    {
     "name": "stdout",
     "output_type": "stream",
     "text": [
      "(2, 4480)\n"
     ]
    }
   ],
   "source": [
    "print(df.shape)  # Should print (3, n) where n is the size of the image arrays"
   ]
  },
  {
   "cell_type": "code",
   "execution_count": 23,
   "metadata": {},
   "outputs": [
    {
     "data": {
      "text/plain": [
       "'Image is binary'"
      ]
     },
     "execution_count": 23,
     "metadata": {},
     "output_type": "execute_result"
    }
   ],
   "source": [
    "check_bianry_img(im)"
   ]
  },
  {
   "cell_type": "code",
   "execution_count": null,
   "metadata": {},
   "outputs": [],
   "source": []
  }
 ],
 "metadata": {
  "colab": {
   "provenance": []
  },
  "gpuClass": "standard",
  "kernelspec": {
   "display_name": "Python 3",
   "language": "python",
   "name": "python3"
  },
  "language_info": {
   "codemirror_mode": {
    "name": "ipython",
    "version": 3
   },
   "file_extension": ".py",
   "mimetype": "text/x-python",
   "name": "python",
   "nbconvert_exporter": "python",
   "pygments_lexer": "ipython3",
   "version": "3.8.5"
  }
 },
 "nbformat": 4,
 "nbformat_minor": 4
}
