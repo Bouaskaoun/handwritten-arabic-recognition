{
 "cells": [
  {
   "cell_type": "code",
   "execution_count": 6,
   "metadata": {},
   "outputs": [],
   "source": [
    "import os\n",
    "import numpy as np\n",
    "from matplotlib import pyplot as plt\n",
    "from PIL import Image"
   ]
  },
  {
   "cell_type": "code",
   "execution_count": 2,
   "metadata": {},
   "outputs": [],
   "source": [
    "def convert_to_binary(image_path):\n",
    "    # Open the image\n",
    "    im = Image.open(image_path)\n",
    "\n",
    "    # Convert the image to grayscale\n",
    "    im = im.convert(\"L\")\n",
    "\n",
    "    # Adjust the contrast\n",
    "    im = im.point(lambda x: 0 if x<128 else 255, \"1\")\n",
    "\n",
    "    return im"
   ]
  },
  {
   "cell_type": "code",
   "execution_count": 4,
   "metadata": {},
   "outputs": [],
   "source": [
    "def main():\n",
    "    # List of folders\n",
    "    folders = [\"data/{:01d}\".format(x) for x in range(32)]\n",
    "\n",
    "    # Iterate through the folders\n",
    "    for folder in folders:\n",
    "        # Get a list of image file paths in the current folder\n",
    "        image_paths = [os.path.join(folder, f) for f in os.listdir(folder) if f.endswith(\".png\") or f.endswith(\".jpg\")]\n",
    "\n",
    "        # Iterate through the images\n",
    "        for image_path in image_paths:\n",
    "            # Convert the image to binary\n",
    "            binary_image = convert_to_binary(image_path)\n",
    "\n",
    "            # Save the binary image\n",
    "            binary_image.save(image_path.replace(\".png\", \".png\").replace(\".jpg\", \".png\"))"
   ]
  },
  {
   "cell_type": "code",
   "execution_count": 5,
   "metadata": {},
   "outputs": [],
   "source": [
    "def check_bianry_img(path):\n",
    "    # Open the image\n",
    "    im = Image.open(path)\n",
    "\n",
    "    # Check the image's color mode\n",
    "    if im.mode == \"1\":\n",
    "        return \"Image is binary\"\n",
    "    else:\n",
    "        return \"Image is not binary\""
   ]
  },
  {
   "cell_type": "code",
   "execution_count": 13,
   "metadata": {},
   "outputs": [
    {
     "data": {
      "image/png": "[encoded data removed]",
      "text/plain": [
       "<Figure size 432x288 with 1 Axes>"
      ]
     },
     "metadata": {
      "needs_background": "light"
     },
     "output_type": "display_data"
    }
   ],
   "source": [
    "image = Image.open(\"data/11/1.png\").convert(\"L\")\n",
    "image_array = np.array(image)\n",
    "threshold = 128\n",
    "binary_image_array = np.where(image_array > threshold, 255, 0)\n",
    "vertical_histogram = np.sum(binary_image_array,axis=0)/255\n",
    "plt.plot(vertical_histogram)\n",
    "plt.show()"
   ]
  },
  {
   "cell_type": "code",
   "execution_count": 14,
   "metadata": {},
   "outputs": [
    {
     "data": {
      "text/plain": [
       "array([  5,   9,  12,  14,  18,  22,  23,  28,  29,  31,  32,  35,  36,\n",
       "        41,  46,  52,  55,  62,  64,  66,  67,  73,  74,  76,  80,  83,\n",
       "        91,  96, 102, 107, 109, 116, 119, 121, 123, 128, 140, 148, 150,\n",
       "       158, 159, 161, 168, 174, 178, 181, 188, 196, 202, 206, 209, 210,\n",
       "       216, 220, 221, 225, 228, 231, 236, 271, 273, 277, 283, 286, 294,\n",
       "       298, 301, 303, 304, 311, 314, 316, 317, 322, 326, 329, 332, 334,\n",
       "       335, 337, 344, 352, 353, 358, 361, 365, 379, 381, 383, 385, 387,\n",
       "       389, 392, 394, 397, 401, 403, 406], dtype=int64)"
      ]
     },
     "execution_count": 14,
     "metadata": {},
     "output_type": "execute_result"
    }
   ],
   "source": [
    "minima = np.array(np.diff(np.sign(np.diff(vertical_histogram))) > 0).nonzero()[0] + 1\n",
    "minima"
   ]
  },
  {
   "cell_type": "code",
   "execution_count": null,
   "metadata": {},
   "outputs": [],
   "source": [
    "words = [binary_image_array[:, minima[i]:minima[i+1]] for i in range(len(minima)-1)]"
   ]
  },
  {
   "cell_type": "code",
   "execution_count": 20,
   "metadata": {},
   "outputs": [],
   "source": [
    "import cv2\n",
    "import numpy as np\n",
    "\n",
    "def split_words(image):\n",
    "  # Preprocessing: Convert to grayscale and apply image binarization\n",
    "  #gray = cv2.cvtColor(image, cv2.COLOR_BGR2GRAY)\n",
    "  #_, binary = cv2.threshold(gray, 0, 255, cv2.THRESH_BINARY_INV | cv2.THRESH_OTSU)\n",
    "  \n",
    "  # Calculate the vertical histogram\n",
    "  hist = cv2.reduce(image, 0, cv2.REDUCE_AVG).reshape(-1)\n",
    "  \n",
    "  # Identify the break between the two words\n",
    "  break_index = np.argmin(hist)\n",
    "  \n",
    "  # Extract the first word\n",
    "  word1 = image[:, :break_index]\n",
    "  \n",
    "  # Extract the second word\n",
    "  word2 = image[:, break_index:]\n",
    "  \n",
    "  return word1, word2\n",
    "\n",
    "# Load the image\n",
    "image = cv2.imread(\"data/11/1.png\")\n",
    "\n",
    "# Split the image into two words\n",
    "word1, word2 = split_words(image)\n",
    "\n",
    "# Display the words\n",
    "cv2.imshow(\"Word 1\", word1)\n",
    "cv2.imshow(\"Word 2\", word2)\n",
    "cv2.waitKey(0)\n",
    "cv2.destroyAllWindows()\n"
   ]
  },
  {
   "cell_type": "code",
   "execution_count": null,
   "metadata": {},
   "outputs": [],
   "source": []
  }
 ],
 "metadata": {
  "colab": {
   "provenance": []
  },
  "gpuClass": "standard",
  "kernelspec": {
   "display_name": "Python 3",
   "language": "python",
   "name": "python3"
  },
  "language_info": {
   "codemirror_mode": {
    "name": "ipython",
    "version": 3
   },
   "file_extension": ".py",
   "mimetype": "text/x-python",
   "name": "python",
   "nbconvert_exporter": "python",
   "pygments_lexer": "ipython3",
   "version": "3.8.5"
  }
 },
 "nbformat": 4,
 "nbformat_minor": 4
}
