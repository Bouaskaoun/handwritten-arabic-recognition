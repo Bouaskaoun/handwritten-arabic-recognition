{
 "cells": [
  {
   "cell_type": "code",
   "execution_count": 1,
   "metadata": {
    "colab": {
     "base_uri": "https://localhost:8080/"
    },
    "id": "ijERZhYrSo6r",
    "outputId": "94d439b8-11d7-4a3c-ab65-0626cda7170b"
   },
   "outputs": [
    {
     "name": "stdout",
     "output_type": "stream",
     "text": [
      "Mounted at /content/gdrive\n"
     ]
    }
   ],
   "source": [
    "from google.colab import drive\n",
    "drive.mount('/content/gdrive')"
   ]
  },
  {
   "cell_type": "code",
   "execution_count": null,
   "metadata": {
    "id": "PjP4R3TbTJf2"
   },
   "outputs": [],
   "source": [
    "!unzip gdrive/My\\ Drive/arabic-ocr/handwritten_arabic_letters"
   ]
  },
  {
   "cell_type": "code",
   "execution_count": 1,
   "metadata": {
    "id": "AmWednYuTPLv"
   },
   "outputs": [],
   "source": [
    "import os\n",
    "from PIL import Image, ImageChops\n",
    "import numpy as np\n",
    "from numpy import savetxt\n",
    "from numpy import loadtxt\n",
    "from matplotlib import pyplot as plt\n",
    "import pandas as pd\n",
    "import cv2"
   ]
  },
  {
   "cell_type": "code",
   "execution_count": 12,
   "metadata": {
    "id": "P_-5ZmfSUq9K"
   },
   "outputs": [],
   "source": [
    "def trim(image):\n",
    "    image=Image.fromarray(image)\n",
    "    bg = Image.new(image.mode, image.size, image.getpixel((0,0))) # black background\n",
    "    diff = ImageChops.difference(image, bg)\n",
    "    diff = ImageChops.add(diff, diff, 2.0, -100)\n",
    "    bbox = diff.getbbox()\n",
    "    if bbox:\n",
    "        return np.array(image.crop(bbox))\n",
    "# cv2.INTER_AREA: examiner les pixels voisins et utiliser ces voisins pour augmenter ou diminuer optiquement la taille de l’image sans introduire de distorsions\n",
    "def image_resize(image, width = None, height = None, inter = cv2.INTER_AREA):\n",
    "    dim = None\n",
    "    (h, w) = image.shape[:2]\n",
    "    if width is None and height is None:\n",
    "        return image\n",
    "    if width is None:\n",
    "        r = height / float(h)\n",
    "        dim = (int(w * r), height)\n",
    "    else:\n",
    "        #r = width / float(w)\n",
    "        #dim = (width, int(h * r))\n",
    "        dim = (width,height)\n",
    "    resized = cv2.resize(image, dim, interpolation = inter)\n",
    "    return resized\n",
    "def cleaned_image(image):\n",
    "    bg=np.ones((28,28))\n",
    "    bg = bg*255\n",
    "    image=trim(image)\n",
    "    if image is not None:\n",
    "        image = image_resize(image,height=28)\n",
    "    else:\n",
    "        return None\n",
    "    #image=image_resize(image,height=28)\n",
    "    image_gray = cv2.cvtColor(image, cv2.COLOR_BGR2GRAY)\n",
    "    thresh, image_binary = cv2.threshold(image_gray, 128, 255, cv2.THRESH_BINARY + cv2.THRESH_OTSU)\n",
    "    hh, ww = bg.shape\n",
    "    h, w = image_binary.shape\n",
    "    yoff = round((hh-h)/2)\n",
    "    xoff = round((ww-w)/2)\n",
    "    if xoff<=0:\n",
    "        image=image_resize(image,height=28,width=28)\n",
    "        image_gray = cv2.cvtColor(image, cv2.COLOR_BGR2GRAY)\n",
    "        thresh, image_binary = cv2.threshold(image_gray, 128, 255, cv2.THRESH_BINARY + cv2.THRESH_OTSU)\n",
    "        h, w = image_binary.shape\n",
    "        yoff = round((hh-h)/2)\n",
    "        xoff = round((ww-w)/2)\n",
    "    result = bg.copy()\n",
    "    result[yoff:yoff+h, xoff:xoff+w] = image_binary\n",
    "    return result"
   ]
  },
  {
   "cell_type": "code",
   "execution_count": null,
   "metadata": {
    "id": "4Z_zFqMQTP2k"
   },
   "outputs": [],
   "source": [
    "# List of folders containing images\n",
    "folders = os.listdir('/content/isolated_alphabets_per_alphabet')\n",
    "#folders = ['ain_begin']\n",
    "columns=[\"pixel_{:01d}\".format(x) for x in range(784)]\n",
    "# Create an empty DataFrame to store the features and labels\n",
    "data = pd.DataFrame(columns=[*columns, 'label'])\n",
    "\n",
    "# Iterate through each folder\n",
    "for number,folder in enumerate(folders):\n",
    "    path = '/content/isolated_alphabets_per_alphabet/'+folder\n",
    "    # List all the images in the folder\n",
    "    images = os.listdir(path)[:200]\n",
    "    print(\"---------------- folder number: {} -----------------\".format(number))\n",
    "    # Iterate through each image\n",
    "    for index,image in enumerate(images):\n",
    "        # Read the image\n",
    "        #Im = cv2.imread(os.path.join(path, image))\n",
    "        Im = cv2.imread(path+'/'+image)\n",
    "        #Im = Image.open(path+'/'+image)\n",
    "        # Convert the image to grayscale\n",
    "        #Im = Im.convert(\"L\")\n",
    "        # Adjust the contrast\n",
    "        #Im = Im.point(lambda x: 0 if x<128 else 255, \"1\")\n",
    "        # Resize the image to a fixed size\n",
    "        #Im = Im.resize((280, 128))\n",
    "        if cleaned_image(Im) is None:\n",
    "          print('# image {}/{} is a NoneType object, so skip this.'.format(path,image))\n",
    "          continue\n",
    "        Im = cleaned_image(Im)\n",
    "        #pixels.append(list(Im.getdata()))\n",
    "        row = Im.flatten().tolist()\n",
    "        #row = list(Im.getdata())\n",
    "        # Add the features and label to the DataFrame\n",
    "        data.loc[len(data)] = [*row, folder]\n",
    "        #data = data.append(pd.DataFrame([*row, folder], columns=[*columns, 'label']), ignore_index=True)\n",
    "        print(\"progress: {}\".format(index))"
   ]
  },
  {
   "cell_type": "code",
   "execution_count": 6,
   "metadata": {
    "colab": {
     "base_uri": "https://localhost:8080/",
     "height": 299
    },
    "id": "jOPLn3ntTc0r",
    "outputId": "642009b3-74e0-4035-f248-23da19bfa08b"
   },
   "outputs": [
    {
     "data": {
      "text/html": [
       "\n",
       "  <div id=\"df-5bc0f4eb-f975-445f-9859-71558e062524\">\n",
       "    <div class=\"colab-df-container\">\n",
       "      <div>\n",
       "<style scoped>\n",
       "    .dataframe tbody tr th:only-of-type {\n",
       "        vertical-align: middle;\n",
       "    }\n",
       "\n",
       "    .dataframe tbody tr th {\n",
       "        vertical-align: top;\n",
       "    }\n",
       "\n",
       "    .dataframe thead th {\n",
       "        text-align: right;\n",
       "    }\n",
       "</style>\n",
       "<table border=\"1\" class=\"dataframe\">\n",
       "  <thead>\n",
       "    <tr style=\"text-align: right;\">\n",
       "      <th></th>\n",
       "      <th>pixel_0</th>\n",
       "      <th>pixel_1</th>\n",
       "      <th>pixel_2</th>\n",
       "      <th>pixel_3</th>\n",
       "      <th>pixel_4</th>\n",
       "      <th>pixel_5</th>\n",
       "      <th>pixel_6</th>\n",
       "      <th>pixel_7</th>\n",
       "      <th>pixel_8</th>\n",
       "      <th>pixel_9</th>\n",
       "      <th>...</th>\n",
       "      <th>pixel_775</th>\n",
       "      <th>pixel_776</th>\n",
       "      <th>pixel_777</th>\n",
       "      <th>pixel_778</th>\n",
       "      <th>pixel_779</th>\n",
       "      <th>pixel_780</th>\n",
       "      <th>pixel_781</th>\n",
       "      <th>pixel_782</th>\n",
       "      <th>pixel_783</th>\n",
       "      <th>label</th>\n",
       "    </tr>\n",
       "  </thead>\n",
       "  <tbody>\n",
       "    <tr>\n",
       "      <th>0</th>\n",
       "      <td>255.0</td>\n",
       "      <td>255.0</td>\n",
       "      <td>255.0</td>\n",
       "      <td>255.0</td>\n",
       "      <td>0.0</td>\n",
       "      <td>0.0</td>\n",
       "      <td>0.0</td>\n",
       "      <td>255.0</td>\n",
       "      <td>255.0</td>\n",
       "      <td>255.0</td>\n",
       "      <td>...</td>\n",
       "      <td>255.0</td>\n",
       "      <td>255.0</td>\n",
       "      <td>255.0</td>\n",
       "      <td>255.0</td>\n",
       "      <td>255.0</td>\n",
       "      <td>255.0</td>\n",
       "      <td>255.0</td>\n",
       "      <td>255.0</td>\n",
       "      <td>255.0</td>\n",
       "      <td>sad_regular</td>\n",
       "    </tr>\n",
       "    <tr>\n",
       "      <th>1</th>\n",
       "      <td>255.0</td>\n",
       "      <td>255.0</td>\n",
       "      <td>255.0</td>\n",
       "      <td>255.0</td>\n",
       "      <td>255.0</td>\n",
       "      <td>255.0</td>\n",
       "      <td>255.0</td>\n",
       "      <td>255.0</td>\n",
       "      <td>255.0</td>\n",
       "      <td>255.0</td>\n",
       "      <td>...</td>\n",
       "      <td>255.0</td>\n",
       "      <td>255.0</td>\n",
       "      <td>255.0</td>\n",
       "      <td>255.0</td>\n",
       "      <td>255.0</td>\n",
       "      <td>255.0</td>\n",
       "      <td>255.0</td>\n",
       "      <td>255.0</td>\n",
       "      <td>255.0</td>\n",
       "      <td>sad_regular</td>\n",
       "    </tr>\n",
       "    <tr>\n",
       "      <th>2</th>\n",
       "      <td>255.0</td>\n",
       "      <td>255.0</td>\n",
       "      <td>255.0</td>\n",
       "      <td>255.0</td>\n",
       "      <td>255.0</td>\n",
       "      <td>255.0</td>\n",
       "      <td>255.0</td>\n",
       "      <td>255.0</td>\n",
       "      <td>255.0</td>\n",
       "      <td>255.0</td>\n",
       "      <td>...</td>\n",
       "      <td>255.0</td>\n",
       "      <td>255.0</td>\n",
       "      <td>255.0</td>\n",
       "      <td>255.0</td>\n",
       "      <td>255.0</td>\n",
       "      <td>255.0</td>\n",
       "      <td>255.0</td>\n",
       "      <td>255.0</td>\n",
       "      <td>255.0</td>\n",
       "      <td>sad_regular</td>\n",
       "    </tr>\n",
       "    <tr>\n",
       "      <th>3</th>\n",
       "      <td>255.0</td>\n",
       "      <td>255.0</td>\n",
       "      <td>255.0</td>\n",
       "      <td>255.0</td>\n",
       "      <td>255.0</td>\n",
       "      <td>255.0</td>\n",
       "      <td>255.0</td>\n",
       "      <td>255.0</td>\n",
       "      <td>255.0</td>\n",
       "      <td>255.0</td>\n",
       "      <td>...</td>\n",
       "      <td>255.0</td>\n",
       "      <td>255.0</td>\n",
       "      <td>255.0</td>\n",
       "      <td>255.0</td>\n",
       "      <td>255.0</td>\n",
       "      <td>255.0</td>\n",
       "      <td>255.0</td>\n",
       "      <td>255.0</td>\n",
       "      <td>255.0</td>\n",
       "      <td>sad_regular</td>\n",
       "    </tr>\n",
       "    <tr>\n",
       "      <th>4</th>\n",
       "      <td>255.0</td>\n",
       "      <td>255.0</td>\n",
       "      <td>255.0</td>\n",
       "      <td>255.0</td>\n",
       "      <td>255.0</td>\n",
       "      <td>255.0</td>\n",
       "      <td>255.0</td>\n",
       "      <td>255.0</td>\n",
       "      <td>255.0</td>\n",
       "      <td>255.0</td>\n",
       "      <td>...</td>\n",
       "      <td>255.0</td>\n",
       "      <td>255.0</td>\n",
       "      <td>255.0</td>\n",
       "      <td>255.0</td>\n",
       "      <td>255.0</td>\n",
       "      <td>255.0</td>\n",
       "      <td>255.0</td>\n",
       "      <td>255.0</td>\n",
       "      <td>255.0</td>\n",
       "      <td>sad_regular</td>\n",
       "    </tr>\n",
       "  </tbody>\n",
       "</table>\n",
       "<p>5 rows × 785 columns</p>\n",
       "</div>\n",
       "      <button class=\"colab-df-convert\" onclick=\"convertToInteractive('df-5bc0f4eb-f975-445f-9859-71558e062524')\"\n",
       "              title=\"Convert this dataframe to an interactive table.\"\n",
       "              style=\"display:none;\">\n",
       "        \n",
       "  <svg xmlns=\"http://www.w3.org/2000/svg\" height=\"24px\"viewBox=\"0 0 24 24\"\n",
       "       width=\"24px\">\n",
       "    <path d=\"M0 0h24v24H0V0z\" fill=\"none\"/>\n",
       "    <path d=\"M18.56 5.44l.94 2.06.94-2.06 2.06-.94-2.06-.94-.94-2.06-.94 2.06-2.06.94zm-11 1L8.5 8.5l.94-2.06 2.06-.94-2.06-.94L8.5 2.5l-.94 2.06-2.06.94zm10 10l.94 2.06.94-2.06 2.06-.94-2.06-.94-.94-2.06-.94 2.06-2.06.94z\"/><path d=\"M17.41 7.96l-1.37-1.37c-.4-.4-.92-.59-1.43-.59-.52 0-1.04.2-1.43.59L10.3 9.45l-7.72 7.72c-.78.78-.78 2.05 0 2.83L4 21.41c.39.39.9.59 1.41.59.51 0 1.02-.2 1.41-.59l7.78-7.78 2.81-2.81c.8-.78.8-2.07 0-2.86zM5.41 20L4 18.59l7.72-7.72 1.47 1.35L5.41 20z\"/>\n",
       "  </svg>\n",
       "      </button>\n",
       "      \n",
       "  <style>\n",
       "    .colab-df-container {\n",
       "      display:flex;\n",
       "      flex-wrap:wrap;\n",
       "      gap: 12px;\n",
       "    }\n",
       "\n",
       "    .colab-df-convert {\n",
       "      background-color: #E8F0FE;\n",
       "      border: none;\n",
       "      border-radius: 50%;\n",
       "      cursor: pointer;\n",
       "      display: none;\n",
       "      fill: #1967D2;\n",
       "      height: 32px;\n",
       "      padding: 0 0 0 0;\n",
       "      width: 32px;\n",
       "    }\n",
       "\n",
       "    .colab-df-convert:hover {\n",
       "      background-color: #E2EBFA;\n",
       "      box-shadow: 0px 1px 2px rgba(60, 64, 67, 0.3), 0px 1px 3px 1px rgba(60, 64, 67, 0.15);\n",
       "      fill: #174EA6;\n",
       "    }\n",
       "\n",
       "    [theme=dark] .colab-df-convert {\n",
       "      background-color: #3B4455;\n",
       "      fill: #D2E3FC;\n",
       "    }\n",
       "\n",
       "    [theme=dark] .colab-df-convert:hover {\n",
       "      background-color: #434B5C;\n",
       "      box-shadow: 0px 1px 3px 1px rgba(0, 0, 0, 0.15);\n",
       "      filter: drop-shadow(0px 1px 2px rgba(0, 0, 0, 0.3));\n",
       "      fill: #FFFFFF;\n",
       "    }\n",
       "  </style>\n",
       "\n",
       "      <script>\n",
       "        const buttonEl =\n",
       "          document.querySelector('#df-5bc0f4eb-f975-445f-9859-71558e062524 button.colab-df-convert');\n",
       "        buttonEl.style.display =\n",
       "          google.colab.kernel.accessAllowed ? 'block' : 'none';\n",
       "\n",
       "        async function convertToInteractive(key) {\n",
       "          const element = document.querySelector('#df-5bc0f4eb-f975-445f-9859-71558e062524');\n",
       "          const dataTable =\n",
       "            await google.colab.kernel.invokeFunction('convertToInteractive',\n",
       "                                                     [key], {});\n",
       "          if (!dataTable) return;\n",
       "\n",
       "          const docLinkHtml = 'Like what you see? Visit the ' +\n",
       "            '<a target=\"_blank\" href=https://colab.research.google.com/notebooks/data_table.ipynb>data table notebook</a>'\n",
       "            + ' to learn more about interactive tables.';\n",
       "          element.innerHTML = '';\n",
       "          dataTable['output_type'] = 'display_data';\n",
       "          await google.colab.output.renderOutput(dataTable, element);\n",
       "          const docLink = document.createElement('div');\n",
       "          docLink.innerHTML = docLinkHtml;\n",
       "          element.appendChild(docLink);\n",
       "        }\n",
       "      </script>\n",
       "    </div>\n",
       "  </div>\n",
       "  "
      ],
      "text/plain": [
       "   pixel_0  pixel_1  pixel_2  pixel_3  pixel_4  pixel_5  pixel_6  pixel_7  \\\n",
       "0    255.0    255.0    255.0    255.0      0.0      0.0      0.0    255.0   \n",
       "1    255.0    255.0    255.0    255.0    255.0    255.0    255.0    255.0   \n",
       "2    255.0    255.0    255.0    255.0    255.0    255.0    255.0    255.0   \n",
       "3    255.0    255.0    255.0    255.0    255.0    255.0    255.0    255.0   \n",
       "4    255.0    255.0    255.0    255.0    255.0    255.0    255.0    255.0   \n",
       "\n",
       "   pixel_8  pixel_9  ...  pixel_775  pixel_776  pixel_777  pixel_778  \\\n",
       "0    255.0    255.0  ...      255.0      255.0      255.0      255.0   \n",
       "1    255.0    255.0  ...      255.0      255.0      255.0      255.0   \n",
       "2    255.0    255.0  ...      255.0      255.0      255.0      255.0   \n",
       "3    255.0    255.0  ...      255.0      255.0      255.0      255.0   \n",
       "4    255.0    255.0  ...      255.0      255.0      255.0      255.0   \n",
       "\n",
       "   pixel_779  pixel_780  pixel_781  pixel_782  pixel_783        label  \n",
       "0      255.0      255.0      255.0      255.0      255.0  sad_regular  \n",
       "1      255.0      255.0      255.0      255.0      255.0  sad_regular  \n",
       "2      255.0      255.0      255.0      255.0      255.0  sad_regular  \n",
       "3      255.0      255.0      255.0      255.0      255.0  sad_regular  \n",
       "4      255.0      255.0      255.0      255.0      255.0  sad_regular  \n",
       "\n",
       "[5 rows x 785 columns]"
      ]
     },
     "execution_count": 6,
     "metadata": {},
     "output_type": "execute_result"
    }
   ],
   "source": [
    "data.head()"
   ]
  },
  {
   "cell_type": "code",
   "execution_count": 7,
   "metadata": {
    "colab": {
     "base_uri": "https://localhost:8080/"
    },
    "id": "aZQBRJT_j0PR",
    "outputId": "fc2b2d90-68ec-4f41-88a4-e8ddfaf584d2"
   },
   "outputs": [
    {
     "name": "stdout",
     "output_type": "stream",
     "text": [
      "<class 'pandas.core.frame.DataFrame'>\n",
      "Int64Index: 12997 entries, 0 to 12996\n",
      "Columns: 785 entries, pixel_0 to label\n",
      "dtypes: float64(784), object(1)\n",
      "memory usage: 77.9+ MB\n"
     ]
    }
   ],
   "source": [
    "data.info()"
   ]
  },
  {
   "cell_type": "code",
   "execution_count": 8,
   "metadata": {
    "id": "FZi88Hynjz-8"
   },
   "outputs": [],
   "source": [
    "# Store the DataFrame as a CSV file\n",
    "data.to_csv(\"handwritten_arabic_letters_2.csv\", index=False)"
   ]
  },
  {
   "cell_type": "code",
   "execution_count": null,
   "metadata": {
    "colab": {
     "base_uri": "https://localhost:8080/",
     "height": 17
    },
    "id": "qR2QVaNlr_jw",
    "outputId": "62297810-3fe6-4e71-c87c-e05de78ae37a"
   },
   "outputs": [
    {
     "data": {
      "application/javascript": [
       "\n",
       "    async function download(id, filename, size) {\n",
       "      if (!google.colab.kernel.accessAllowed) {\n",
       "        return;\n",
       "      }\n",
       "      const div = document.createElement('div');\n",
       "      const label = document.createElement('label');\n",
       "      label.textContent = `Downloading \"${filename}\": `;\n",
       "      div.appendChild(label);\n",
       "      const progress = document.createElement('progress');\n",
       "      progress.max = size;\n",
       "      div.appendChild(progress);\n",
       "      document.body.appendChild(div);\n",
       "\n",
       "      const buffers = [];\n",
       "      let downloaded = 0;\n",
       "\n",
       "      const channel = await google.colab.kernel.comms.open(id);\n",
       "      // Send a message to notify the kernel that we're ready.\n",
       "      channel.send({})\n",
       "\n",
       "      for await (const message of channel.messages) {\n",
       "        // Send a message to notify the kernel that we're ready.\n",
       "        channel.send({})\n",
       "        if (message.buffers) {\n",
       "          for (const buffer of message.buffers) {\n",
       "            buffers.push(buffer);\n",
       "            downloaded += buffer.byteLength;\n",
       "            progress.value = downloaded;\n",
       "          }\n",
       "        }\n",
       "      }\n",
       "      const blob = new Blob(buffers, {type: 'application/binary'});\n",
       "      const a = document.createElement('a');\n",
       "      a.href = window.URL.createObjectURL(blob);\n",
       "      a.download = filename;\n",
       "      div.appendChild(a);\n",
       "      a.click();\n",
       "      div.remove();\n",
       "    }\n",
       "  "
      ],
      "text/plain": [
       "<IPython.core.display.Javascript object>"
      ]
     },
     "metadata": {},
     "output_type": "display_data"
    },
    {
     "data": {
      "application/javascript": [
       "download(\"download_8f0d0174-b40f-469d-99f2-b40a71046335\", \"handwritten_arabic_letters.csv\", 294909282)"
      ],
      "text/plain": [
       "<IPython.core.display.Javascript object>"
      ]
     },
     "metadata": {},
     "output_type": "display_data"
    }
   ],
   "source": [
    "from google.colab import files\n",
    "\n",
    "files.download(\"handwritten_arabic_letters_1.csv\")"
   ]
  },
  {
   "cell_type": "code",
   "execution_count": 9,
   "metadata": {
    "id": "Sr9dBTLQsbHi"
   },
   "outputs": [],
   "source": [
    "!cp handwritten_arabic_letters_2.csv \"gdrive/My Drive/arabic-ocr/\""
   ]
  },
  {
   "cell_type": "code",
   "execution_count": 2,
   "metadata": {
    "id": "9a4n3bbigbwF"
   },
   "outputs": [],
   "source": [
    "data = pd.read_csv('handwritten_arabic_letters.csv')"
   ]
  },
  {
   "cell_type": "code",
   "execution_count": 3,
   "metadata": {
    "colab": {
     "base_uri": "https://localhost:8080/",
     "height": 283
    },
    "id": "9PYNd_EETdc9",
    "outputId": "e96333e3-1e12-4552-cbf0-34913cb3f0c0"
   },
   "outputs": [
    {
     "data": {
      "text/plain": [
       "<matplotlib.image.AxesImage at 0x2218402d460>"
      ]
     },
     "execution_count": 3,
     "metadata": {},
     "output_type": "execute_result"
    },
    {
     "data": {
      "image/png": "[encoded data removed]",
      "text/plain": [
       "<Figure size 432x288 with 1 Axes>"
      ]
     },
     "metadata": {
      "needs_background": "light"
     },
     "output_type": "display_data"
    }
   ],
   "source": [
    "X = data.drop(columns=['label'])\n",
    "first_row = np.asarray(list(X.iloc[0])).reshape(28,28)\n",
    "plt.imshow(first_row)"
   ]
  },
  {
   "cell_type": "code",
   "execution_count": 4,
   "metadata": {
    "colab": {
     "base_uri": "https://localhost:8080/"
    },
    "id": "HAeyQDZIreZS",
    "outputId": "3ff3e66e-32fa-4ab9-b894-28b297579743"
   },
   "outputs": [
    {
     "data": {
      "text/plain": [
       "array(['sad_regular', 'alif_regular', 'alif_end', 'ain_begin',\n",
       "       'kaf_regular', 'kaf_middle', 'qaf_regular', 'alif_hamza',\n",
       "       'noon_end', 'jeem_begin', 'ain_middle', 'lam_middle', 'tah_end',\n",
       "       'ain_regular', 'qaf_middle', 'feh_begin', 'seen_middle',\n",
       "       'tah_middle', 'heh_begin', 'meem_end', 'lam_begin', 'dal_regular',\n",
       "       'jeem_regular', 'seen_end', 'heh_end', 'feh_regular', 'beh_middle',\n",
       "       'waw_regular', 'raa_regular', 'feh_middle', 'dal_end',\n",
       "       'meem_begin', 'noon_regular', 'qaf_begin', 'meem_middle',\n",
       "       'lam_alif', 'tah_regular', 'sad_middle', 'jeem_middle', 'waw_end',\n",
       "       'sad_end', 'beh_end', 'heh_regular', 'feh_end', 'ain_end',\n",
       "       'seen_regular', 'heh_middle', 'beh_regular', 'yaa_begin',\n",
       "       'lam_end', 'raa_end', 'noon_begin', 'beh_begin', 'kaf_begin',\n",
       "       'kaf_end', 'noon_middle', 'meem_regular', 'seen_begin', 'jeem_end',\n",
       "       'qaf_end', 'sad_begin', 'yaa_middle', 'yaa_end', 'yaa_regular',\n",
       "       'lam_regular'], dtype=object)"
      ]
     },
     "execution_count": 4,
     "metadata": {},
     "output_type": "execute_result"
    }
   ],
   "source": [
    "labels = data.label.unique()\n",
    "labels"
   ]
  },
  {
   "cell_type": "code",
   "execution_count": 5,
   "metadata": {
    "id": "SEe5DE5oxpYN"
   },
   "outputs": [],
   "source": [
    "data.label = data.label.apply(lambda x: x.split('_')[0])\n",
    "label_map = {'ain':0,\n",
    "          'alif':1,\n",
    "          'beh':2,\n",
    "          'dal':3,\n",
    "          'feh':4,\n",
    "          'heh':5,\n",
    "          'jeem':6,\n",
    "          'kaf':7,\n",
    "          'lam':8,\n",
    "          'meem':9,\n",
    "          'noon':10,\n",
    "          'qaf':11,\n",
    "          'raa':12,\n",
    "          'sad':13,\n",
    "          'seen':14,\n",
    "          'tah':15,\n",
    "          'waw':16,\n",
    "          'yaa':17\n",
    "          }\n"
   ]
  },
  {
   "cell_type": "code",
   "execution_count": 6,
   "metadata": {
    "colab": {
     "base_uri": "https://localhost:8080/"
    },
    "id": "E9koiLdZy_po",
    "outputId": "c021e2c9-d93d-4752-d29d-a36709c54c02"
   },
   "outputs": [
    {
     "data": {
      "text/plain": [
       "0        13\n",
       "1        13\n",
       "2        13\n",
       "3        13\n",
       "4        13\n",
       "         ..\n",
       "12992     8\n",
       "12993     8\n",
       "12994     8\n",
       "12995     8\n",
       "12996     8\n",
       "Name: label, Length: 12997, dtype: int64"
      ]
     },
     "execution_count": 6,
     "metadata": {},
     "output_type": "execute_result"
    }
   ],
   "source": [
    "# Use the map function to transform the labels\n",
    "data.label = data.label.map(label_map)\n",
    "data.label"
   ]
  },
  {
   "cell_type": "code",
   "execution_count": 7,
   "metadata": {
    "colab": {
     "base_uri": "https://localhost:8080/"
    },
    "id": "6a_ilVeszmzn",
    "outputId": "fbfbb2ca-08b2-4310-d89e-425424dc69b0"
   },
   "outputs": [
    {
     "name": "stdout",
     "output_type": "stream",
     "text": [
      "<class 'pandas.core.frame.DataFrame'>\n",
      "RangeIndex: 12997 entries, 0 to 12996\n",
      "Columns: 785 entries, pixel_0 to label\n",
      "dtypes: float64(784), int64(1)\n",
      "memory usage: 77.8 MB\n"
     ]
    }
   ],
   "source": [
    "data.info()"
   ]
  },
  {
   "cell_type": "code",
   "execution_count": 8,
   "metadata": {
    "id": "V51tYqeB1CUJ"
   },
   "outputs": [],
   "source": [
    "from sklearn.model_selection import train_test_split\n",
    "from sklearn.ensemble import RandomForestClassifier\n",
    "from sklearn.model_selection import GridSearchCV\n",
    "from sklearn.metrics import accuracy_score"
   ]
  },
  {
   "cell_type": "code",
   "execution_count": 9,
   "metadata": {
    "colab": {
     "base_uri": "https://localhost:8080/"
    },
    "id": "y2TR5nHBzqKW",
    "outputId": "9dc62704-fa9b-4933-e560-ce793e2202e8"
   },
   "outputs": [
    {
     "name": "stdout",
     "output_type": "stream",
     "text": [
      "Test accuracy: 0.70\n"
     ]
    }
   ],
   "source": [
    "# Split the DataFrame into training and test sets\n",
    "X_train, X_test, y_train, y_test = train_test_split(data.drop(columns=['label']), data['label'], test_size=0.2,random_state=101)\n",
    "\n",
    "# Train a random forest classifier\n",
    "clf = RandomForestClassifier(n_estimators=200, max_features='sqrt', bootstrap=True)\n",
    "clf.fit(X_train, y_train)\n",
    "\n",
    "# Test the classifier on the test set\n",
    "accuracy = clf.score(X_test, y_test)\n",
    "print(f'Test accuracy: {accuracy:.2f}')"
   ]
  },
  {
   "cell_type": "code",
   "execution_count": 10,
   "metadata": {
    "colab": {
     "base_uri": "https://localhost:8080/"
    },
    "id": "Y9QZTZJH3j52",
    "outputId": "cfc97119-86b1-4cd6-8252-a8f47bead973"
   },
   "outputs": [
    {
     "name": "stdout",
     "output_type": "stream",
     "text": [
      "Train accuracy: 1.00\n"
     ]
    }
   ],
   "source": [
    "# Test the classifier on the test set\n",
    "accuracy = clf.score(X_train, y_train)\n",
    "print(f'Train accuracy: {accuracy:.2f}')"
   ]
  },
  {
   "cell_type": "code",
   "execution_count": 13,
   "metadata": {
    "colab": {
     "base_uri": "https://localhost:8080/",
     "height": 288
    },
    "id": "wNSUuSDT33xM",
    "outputId": "43ff4ccf-7aca-4fef-a646-881f013e50d5"
   },
   "outputs": [
    {
     "data": {
      "image/png": "[encoded data removed]",
      "text/plain": [
       "<Figure size 432x288 with 1 Axes>"
      ]
     },
     "metadata": {
      "needs_background": "light"
     },
     "output_type": "display_data"
    }
   ],
   "source": [
    "image_test = cv2.imread('isolated_alphabets_per_alphabet/beh_middle/user082_beh_middle_010.png')\n",
    "Im = cleaned_image(image_test)\n",
    "vect = Im.flatten().tolist()\n",
    "value = clf.predict([vect])[0]\n",
    "key = [k for k, v in label_map.items() if v == value]\n",
    "plt.title('The class predicted for image is ' + key[0])\n",
    "plt.imshow(image_test)\n",
    "plt.show()"
   ]
  },
  {
   "cell_type": "code",
   "execution_count": 14,
   "metadata": {},
   "outputs": [],
   "source": [
    "import joblib\n",
    "joblib.dump(clf,open('HandwrittenModel.joblib','wb'))"
   ]
  },
  {
   "cell_type": "code",
   "execution_count": 15,
   "metadata": {},
   "outputs": [],
   "source": [
    "# Load the model from the file\n",
    "clf_job = joblib.load('HandwrittenModel.joblib')"
   ]
  },
  {
   "cell_type": "code",
   "execution_count": 18,
   "metadata": {},
   "outputs": [
    {
     "data": {
      "image/png": "[encoded data removed]",
      "text/plain": [
       "<Figure size 432x288 with 1 Axes>"
      ]
     },
     "metadata": {
      "needs_background": "light"
     },
     "output_type": "display_data"
    }
   ],
   "source": [
    "image_test = cv2.imread('isolated_alphabets_per_alphabet/dal_end/user001_dal_end_037.png')\n",
    "Im = cleaned_image(image_test)\n",
    "vect = Im.flatten().tolist()\n",
    "value = clf_job.predict([vect])[0]\n",
    "key = [k for k, v in label_map.items() if v == value]\n",
    "plt.title('The class predicted for image is ' + key[0])\n",
    "plt.imshow(image_test)\n",
    "plt.show()"
   ]
  },
  {
   "cell_type": "code",
   "execution_count": 35,
   "metadata": {
    "id": "2Kzom8jZr5-3"
   },
   "outputs": [],
   "source": [
    "parameters = {'n_estimators': [10, 50, 100, 200],\n",
    "              'max_depth': [None, 10, 20, 30],\n",
    "              'max_features': ['auto', 'sqrt', 'log2']}"
   ]
  },
  {
   "cell_type": "code",
   "execution_count": 36,
   "metadata": {
    "colab": {
     "base_uri": "https://localhost:8080/"
    },
    "id": "cvUnaKsI1Ver",
    "outputId": "9f7598e6-abfb-477f-c396-b6afc0f64465"
   },
   "outputs": [
    {
     "data": {
      "text/plain": [
       "GridSearchCV(cv=5, estimator=RandomForestClassifier(),\n",
       "             param_grid={'max_depth': [None, 10, 20, 30],\n",
       "                         'max_features': ['auto', 'sqrt', 'log2'],\n",
       "                         'n_estimators': [10, 50, 100, 200]})"
      ]
     },
     "execution_count": 36,
     "metadata": {},
     "output_type": "execute_result"
    }
   ],
   "source": [
    "# Create a random forest classifier\n",
    "clf = RandomForestClassifier()\n",
    "\n",
    "# Use grid search to find the best hyperparameters\n",
    "grid_search = GridSearchCV(clf, parameters, cv=5)\n",
    "# Fit the grid search object to the training data\n",
    "grid_search.fit(X_train, y_train)\n"
   ]
  },
  {
   "cell_type": "code",
   "execution_count": 37,
   "metadata": {
    "id": "Dzc1C0y4rph-"
   },
   "outputs": [],
   "source": [
    "# Get the best hyperparameters\n",
    "best_params = grid_search.best_params_\n",
    "\n",
    "# Get the best score\n",
    "best_score = grid_search.best_score_\n"
   ]
  },
  {
   "cell_type": "code",
   "execution_count": 38,
   "metadata": {
    "colab": {
     "base_uri": "https://localhost:8080/"
    },
    "id": "ahz7ukE5tJKv",
    "outputId": "8442f550-ea44-4c52-a164-1a10583c3b9f"
   },
   "outputs": [
    {
     "data": {
      "text/plain": [
       "{'max_depth': None, 'max_features': 'auto', 'n_estimators': 200}"
      ]
     },
     "execution_count": 38,
     "metadata": {},
     "output_type": "execute_result"
    }
   ],
   "source": [
    "best_params"
   ]
  },
  {
   "cell_type": "code",
   "execution_count": 39,
   "metadata": {
    "colab": {
     "base_uri": "https://localhost:8080/"
    },
    "id": "rRYoJq88tFZm",
    "outputId": "1f82033d-bf50-4f1c-efdf-4f93315fbb52"
   },
   "outputs": [
    {
     "data": {
      "text/plain": [
       "0.682025752025752"
      ]
     },
     "execution_count": 39,
     "metadata": {},
     "output_type": "execute_result"
    }
   ],
   "source": [
    "best_score"
   ]
  },
  {
   "cell_type": "code",
   "execution_count": null,
   "metadata": {
    "id": "sk676Y88tyoR"
   },
   "outputs": [],
   "source": []
  }
 ],
 "metadata": {
  "colab": {
   "provenance": []
  },
  "kernelspec": {
   "display_name": "Python 3",
   "language": "python",
   "name": "python3"
  },
  "language_info": {
   "codemirror_mode": {
    "name": "ipython",
    "version": 3
   },
   "file_extension": ".py",
   "mimetype": "text/x-python",
   "name": "python",
   "nbconvert_exporter": "python",
   "pygments_lexer": "ipython3",
   "version": "3.8.5"
  }
 },
 "nbformat": 4,
 "nbformat_minor": 4
}
