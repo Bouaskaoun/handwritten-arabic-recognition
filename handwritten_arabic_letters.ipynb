{
  "nbformat": 4,
  "nbformat_minor": 0,
  "metadata": {
    "colab": {
      "provenance": []
    },
    "kernelspec": {
      "name": "python3",
      "display_name": "Python 3"
    },
    "language_info": {
      "name": "python"
    }
  },
  "cells": [
    {
      "cell_type": "code",
      "execution_count": 1,
      "metadata": {
        "colab": {
          "base_uri": "https://localhost:8080/"
        },
        "id": "ijERZhYrSo6r",
        "outputId": "78c01dcf-82d4-4a29-e233-6a89108ffc27"
      },
      "outputs": [
        {
          "output_type": "stream",
          "name": "stdout",
          "text": [
            "Mounted at /content/gdrive\n"
          ]
        }
      ],
      "source": [
        "from google.colab import drive\n",
        "drive.mount('/content/gdrive')"
      ]
    },
    {
      "cell_type": "code",
      "source": [
        "!unzip gdrive/My\\ Drive/arabic-ocr/handwritten_arabic_letters"
      ],
      "metadata": {
        "id": "PjP4R3TbTJf2"
      },
      "execution_count": null,
      "outputs": []
    },
    {
      "cell_type": "code",
      "source": [
        "import os\n",
        "from PIL import Image, ImageChops\n",
        "import numpy as np\n",
        "from matplotlib import pyplot as plt\n",
        "import pandas as pd\n",
        "import cv2"
      ],
      "metadata": {
        "id": "AmWednYuTPLv"
      },
      "execution_count": 2,
      "outputs": []
    },
    {
      "cell_type": "code",
      "source": [
        "def trim(image):\n",
        "    image=Image.fromarray(image)\n",
        "    bg = Image.new(image.mode, image.size, image.getpixel((0,0))) # black background\n",
        "    diff = ImageChops.difference(image, bg)\n",
        "    diff = ImageChops.add(diff, diff, 2.0, -100)\n",
        "    bbox = diff.getbbox()\n",
        "    if bbox:\n",
        "        return np.array(image.crop(bbox))\n",
        "# cv2.INTER_AREA: examiner les pixels voisins et utiliser ces voisins pour augmenter ou diminuer optiquement la taille de l’image sans introduire de distorsions\n",
        "def image_resize(image, width = None, height = None, inter = cv2.INTER_AREA):\n",
        "    if image is None:\n",
        "      return None\n",
        "    dim = None\n",
        "    (h, w) = image.shape[:2]\n",
        "    if width is None and height is None:\n",
        "        return image\n",
        "    if width is None:\n",
        "        r = height / float(h)\n",
        "        if int(w*r)>0:\n",
        "          dim = (int(w * r), height)\n",
        "        else:\n",
        "          return None\n",
        "    else:\n",
        "        #r = width / float(w)\n",
        "        #dim = (width, int(h * r))\n",
        "        dim = (width,height)\n",
        "    resized = cv2.resize(image, dim, interpolation = inter)\n",
        "    return resized\n",
        "def cleaned_image(image):\n",
        "    bg=np.ones((28,28))\n",
        "    bg = bg*255\n",
        "    image=trim(image)\n",
        "    image = image_resize(image,height=28)\n",
        "    if image is None:\n",
        "      return None\n",
        "    #image=image_resize(image,height=28)\n",
        "    image_gray = cv2.cvtColor(image, cv2.COLOR_BGR2GRAY)\n",
        "    thresh, image_binary = cv2.threshold(image_gray, 128, 255, cv2.THRESH_BINARY + cv2.THRESH_OTSU)\n",
        "    hh, ww = bg.shape\n",
        "    h, w = image_binary.shape\n",
        "    yoff = round((hh-h)/2)\n",
        "    xoff = round((ww-w)/2)\n",
        "    if xoff<=0:\n",
        "        image=image_resize(image,height=28,width=28)\n",
        "        image_gray = cv2.cvtColor(image, cv2.COLOR_BGR2GRAY)\n",
        "        thresh, image_binary = cv2.threshold(image_gray, 128, 255, cv2.THRESH_BINARY + cv2.THRESH_OTSU)\n",
        "        h, w = image_binary.shape\n",
        "        yoff = round((hh-h)/2)\n",
        "        xoff = round((ww-w)/2)\n",
        "    result = bg.copy()\n",
        "    result[yoff:yoff+h, xoff:xoff+w] = image_binary\n",
        "    return result"
      ],
      "metadata": {
        "id": "P_-5ZmfSUq9K"
      },
      "execution_count": 3,
      "outputs": []
    },
    {
      "cell_type": "code",
      "source": [
        "# List of folders containing images\n",
        "folders = os.listdir('/content/isolated_alphabets_per_alphabet')\n",
        "#folders = ['ain_begin']\n",
        "columns=[\"pixel_{:01d}\".format(x) for x in range(784)]\n",
        "# Create an empty DataFrame to store the features and labels\n",
        "data = pd.DataFrame(columns=[*columns, 'label'])\n",
        "\n",
        "# Iterate through each folder\n",
        "for number,folder in enumerate(folders):\n",
        "    path = '/content/isolated_alphabets_per_alphabet/'+folder\n",
        "    # List all the images in the folder\n",
        "    images = os.listdir(path)\n",
        "    print(\"---------------- folder number: {} -----------------\".format(number))\n",
        "    # Iterate through each image\n",
        "    for index,image in enumerate(images):\n",
        "        # Read the image\n",
        "        #Im = cv2.imread(os.path.join(path, image))\n",
        "        Im = cv2.imread(path+'/'+image)\n",
        "        #Im = Image.open(path+'/'+image)\n",
        "        # Convert the image to grayscale\n",
        "        #Im = Im.convert(\"L\")\n",
        "        # Adjust the contrast\n",
        "        #Im = Im.point(lambda x: 0 if x<128 else 255, \"1\")\n",
        "        # Resize the image to a fixed size\n",
        "        #Im = Im.resize((280, 128))\n",
        "        if cleaned_image(Im) is None:\n",
        "          print('# image {}/{} is a NoneType object, so skip this.'.format(path,image))\n",
        "          continue\n",
        "        Im = cleaned_image(Im)\n",
        "        #pixels.append(list(Im.getdata()))\n",
        "        row = Im.flatten().tolist()\n",
        "        #row = list(Im.getdata())\n",
        "        # Add the features and label to the DataFrame\n",
        "        data.loc[len(data)] = [*row, folder]\n",
        "        #data = data.append(pd.DataFrame([*row, folder], columns=[*columns, 'label']), ignore_index=True)\n",
        "        print(\"progress: {}\".format(index))"
      ],
      "metadata": {
        "id": "4Z_zFqMQTP2k"
      },
      "execution_count": null,
      "outputs": []
    },
    {
      "cell_type": "code",
      "source": [
        "data.head()"
      ],
      "metadata": {
        "colab": {
          "base_uri": "https://localhost:8080/",
          "height": 299
        },
        "id": "jOPLn3ntTc0r",
        "outputId": "14714953-2a3d-41e5-9006-ae70cbe5a81d"
      },
      "execution_count": null,
      "outputs": [
        {
          "output_type": "execute_result",
          "data": {
            "text/plain": [
              "   pixel_0  pixel_1  pixel_2  pixel_3  pixel_4  pixel_5  pixel_6  pixel_7  \\\n",
              "0    255.0    255.0    255.0    255.0      0.0      0.0      0.0    255.0   \n",
              "1    255.0    255.0    255.0    255.0    255.0    255.0    255.0    255.0   \n",
              "2    255.0    255.0    255.0    255.0    255.0    255.0    255.0    255.0   \n",
              "3    255.0    255.0    255.0    255.0    255.0    255.0    255.0    255.0   \n",
              "4    255.0    255.0    255.0    255.0    255.0    255.0    255.0    255.0   \n",
              "\n",
              "   pixel_8  pixel_9  ...  pixel_775  pixel_776  pixel_777  pixel_778  \\\n",
              "0    255.0    255.0  ...      255.0      255.0      255.0      255.0   \n",
              "1    255.0    255.0  ...      255.0      255.0      255.0      255.0   \n",
              "2    255.0    255.0  ...      255.0      255.0      255.0      255.0   \n",
              "3    255.0    255.0  ...      255.0      255.0      255.0      255.0   \n",
              "4    255.0    255.0  ...      255.0      255.0      255.0      255.0   \n",
              "\n",
              "   pixel_779  pixel_780  pixel_781  pixel_782  pixel_783        label  \n",
              "0      255.0      255.0      255.0      255.0      255.0  sad_regular  \n",
              "1      255.0      255.0      255.0      255.0      255.0  sad_regular  \n",
              "2      255.0      255.0      255.0      255.0      255.0  sad_regular  \n",
              "3      255.0      255.0      255.0      255.0      255.0  sad_regular  \n",
              "4      255.0      255.0      255.0      255.0      255.0  sad_regular  \n",
              "\n",
              "[5 rows x 785 columns]"
            ],
            "text/html": [
              "\n",
              "  <div id=\"df-75ae6baa-e3f3-491f-9143-c85a06e18f93\">\n",
              "    <div class=\"colab-df-container\">\n",
              "      <div>\n",
              "<style scoped>\n",
              "    .dataframe tbody tr th:only-of-type {\n",
              "        vertical-align: middle;\n",
              "    }\n",
              "\n",
              "    .dataframe tbody tr th {\n",
              "        vertical-align: top;\n",
              "    }\n",
              "\n",
              "    .dataframe thead th {\n",
              "        text-align: right;\n",
              "    }\n",
              "</style>\n",
              "<table border=\"1\" class=\"dataframe\">\n",
              "  <thead>\n",
              "    <tr style=\"text-align: right;\">\n",
              "      <th></th>\n",
              "      <th>pixel_0</th>\n",
              "      <th>pixel_1</th>\n",
              "      <th>pixel_2</th>\n",
              "      <th>pixel_3</th>\n",
              "      <th>pixel_4</th>\n",
              "      <th>pixel_5</th>\n",
              "      <th>pixel_6</th>\n",
              "      <th>pixel_7</th>\n",
              "      <th>pixel_8</th>\n",
              "      <th>pixel_9</th>\n",
              "      <th>...</th>\n",
              "      <th>pixel_775</th>\n",
              "      <th>pixel_776</th>\n",
              "      <th>pixel_777</th>\n",
              "      <th>pixel_778</th>\n",
              "      <th>pixel_779</th>\n",
              "      <th>pixel_780</th>\n",
              "      <th>pixel_781</th>\n",
              "      <th>pixel_782</th>\n",
              "      <th>pixel_783</th>\n",
              "      <th>label</th>\n",
              "    </tr>\n",
              "  </thead>\n",
              "  <tbody>\n",
              "    <tr>\n",
              "      <th>0</th>\n",
              "      <td>255.0</td>\n",
              "      <td>255.0</td>\n",
              "      <td>255.0</td>\n",
              "      <td>255.0</td>\n",
              "      <td>0.0</td>\n",
              "      <td>0.0</td>\n",
              "      <td>0.0</td>\n",
              "      <td>255.0</td>\n",
              "      <td>255.0</td>\n",
              "      <td>255.0</td>\n",
              "      <td>...</td>\n",
              "      <td>255.0</td>\n",
              "      <td>255.0</td>\n",
              "      <td>255.0</td>\n",
              "      <td>255.0</td>\n",
              "      <td>255.0</td>\n",
              "      <td>255.0</td>\n",
              "      <td>255.0</td>\n",
              "      <td>255.0</td>\n",
              "      <td>255.0</td>\n",
              "      <td>sad_regular</td>\n",
              "    </tr>\n",
              "    <tr>\n",
              "      <th>1</th>\n",
              "      <td>255.0</td>\n",
              "      <td>255.0</td>\n",
              "      <td>255.0</td>\n",
              "      <td>255.0</td>\n",
              "      <td>255.0</td>\n",
              "      <td>255.0</td>\n",
              "      <td>255.0</td>\n",
              "      <td>255.0</td>\n",
              "      <td>255.0</td>\n",
              "      <td>255.0</td>\n",
              "      <td>...</td>\n",
              "      <td>255.0</td>\n",
              "      <td>255.0</td>\n",
              "      <td>255.0</td>\n",
              "      <td>255.0</td>\n",
              "      <td>255.0</td>\n",
              "      <td>255.0</td>\n",
              "      <td>255.0</td>\n",
              "      <td>255.0</td>\n",
              "      <td>255.0</td>\n",
              "      <td>sad_regular</td>\n",
              "    </tr>\n",
              "    <tr>\n",
              "      <th>2</th>\n",
              "      <td>255.0</td>\n",
              "      <td>255.0</td>\n",
              "      <td>255.0</td>\n",
              "      <td>255.0</td>\n",
              "      <td>255.0</td>\n",
              "      <td>255.0</td>\n",
              "      <td>255.0</td>\n",
              "      <td>255.0</td>\n",
              "      <td>255.0</td>\n",
              "      <td>255.0</td>\n",
              "      <td>...</td>\n",
              "      <td>255.0</td>\n",
              "      <td>255.0</td>\n",
              "      <td>255.0</td>\n",
              "      <td>255.0</td>\n",
              "      <td>255.0</td>\n",
              "      <td>255.0</td>\n",
              "      <td>255.0</td>\n",
              "      <td>255.0</td>\n",
              "      <td>255.0</td>\n",
              "      <td>sad_regular</td>\n",
              "    </tr>\n",
              "    <tr>\n",
              "      <th>3</th>\n",
              "      <td>255.0</td>\n",
              "      <td>255.0</td>\n",
              "      <td>255.0</td>\n",
              "      <td>255.0</td>\n",
              "      <td>255.0</td>\n",
              "      <td>255.0</td>\n",
              "      <td>255.0</td>\n",
              "      <td>255.0</td>\n",
              "      <td>255.0</td>\n",
              "      <td>255.0</td>\n",
              "      <td>...</td>\n",
              "      <td>255.0</td>\n",
              "      <td>255.0</td>\n",
              "      <td>255.0</td>\n",
              "      <td>255.0</td>\n",
              "      <td>255.0</td>\n",
              "      <td>255.0</td>\n",
              "      <td>255.0</td>\n",
              "      <td>255.0</td>\n",
              "      <td>255.0</td>\n",
              "      <td>sad_regular</td>\n",
              "    </tr>\n",
              "    <tr>\n",
              "      <th>4</th>\n",
              "      <td>255.0</td>\n",
              "      <td>255.0</td>\n",
              "      <td>255.0</td>\n",
              "      <td>255.0</td>\n",
              "      <td>255.0</td>\n",
              "      <td>255.0</td>\n",
              "      <td>255.0</td>\n",
              "      <td>255.0</td>\n",
              "      <td>255.0</td>\n",
              "      <td>255.0</td>\n",
              "      <td>...</td>\n",
              "      <td>255.0</td>\n",
              "      <td>255.0</td>\n",
              "      <td>255.0</td>\n",
              "      <td>255.0</td>\n",
              "      <td>255.0</td>\n",
              "      <td>255.0</td>\n",
              "      <td>255.0</td>\n",
              "      <td>255.0</td>\n",
              "      <td>255.0</td>\n",
              "      <td>sad_regular</td>\n",
              "    </tr>\n",
              "  </tbody>\n",
              "</table>\n",
              "<p>5 rows × 785 columns</p>\n",
              "</div>\n",
              "      <button class=\"colab-df-convert\" onclick=\"convertToInteractive('df-75ae6baa-e3f3-491f-9143-c85a06e18f93')\"\n",
              "              title=\"Convert this dataframe to an interactive table.\"\n",
              "              style=\"display:none;\">\n",
              "        \n",
              "  <svg xmlns=\"http://www.w3.org/2000/svg\" height=\"24px\"viewBox=\"0 0 24 24\"\n",
              "       width=\"24px\">\n",
              "    <path d=\"M0 0h24v24H0V0z\" fill=\"none\"/>\n",
              "    <path d=\"M18.56 5.44l.94 2.06.94-2.06 2.06-.94-2.06-.94-.94-2.06-.94 2.06-2.06.94zm-11 1L8.5 8.5l.94-2.06 2.06-.94-2.06-.94L8.5 2.5l-.94 2.06-2.06.94zm10 10l.94 2.06.94-2.06 2.06-.94-2.06-.94-.94-2.06-.94 2.06-2.06.94z\"/><path d=\"M17.41 7.96l-1.37-1.37c-.4-.4-.92-.59-1.43-.59-.52 0-1.04.2-1.43.59L10.3 9.45l-7.72 7.72c-.78.78-.78 2.05 0 2.83L4 21.41c.39.39.9.59 1.41.59.51 0 1.02-.2 1.41-.59l7.78-7.78 2.81-2.81c.8-.78.8-2.07 0-2.86zM5.41 20L4 18.59l7.72-7.72 1.47 1.35L5.41 20z\"/>\n",
              "  </svg>\n",
              "      </button>\n",
              "      \n",
              "  <style>\n",
              "    .colab-df-container {\n",
              "      display:flex;\n",
              "      flex-wrap:wrap;\n",
              "      gap: 12px;\n",
              "    }\n",
              "\n",
              "    .colab-df-convert {\n",
              "      background-color: #E8F0FE;\n",
              "      border: none;\n",
              "      border-radius: 50%;\n",
              "      cursor: pointer;\n",
              "      display: none;\n",
              "      fill: #1967D2;\n",
              "      height: 32px;\n",
              "      padding: 0 0 0 0;\n",
              "      width: 32px;\n",
              "    }\n",
              "\n",
              "    .colab-df-convert:hover {\n",
              "      background-color: #E2EBFA;\n",
              "      box-shadow: 0px 1px 2px rgba(60, 64, 67, 0.3), 0px 1px 3px 1px rgba(60, 64, 67, 0.15);\n",
              "      fill: #174EA6;\n",
              "    }\n",
              "\n",
              "    [theme=dark] .colab-df-convert {\n",
              "      background-color: #3B4455;\n",
              "      fill: #D2E3FC;\n",
              "    }\n",
              "\n",
              "    [theme=dark] .colab-df-convert:hover {\n",
              "      background-color: #434B5C;\n",
              "      box-shadow: 0px 1px 3px 1px rgba(0, 0, 0, 0.15);\n",
              "      filter: drop-shadow(0px 1px 2px rgba(0, 0, 0, 0.3));\n",
              "      fill: #FFFFFF;\n",
              "    }\n",
              "  </style>\n",
              "\n",
              "      <script>\n",
              "        const buttonEl =\n",
              "          document.querySelector('#df-75ae6baa-e3f3-491f-9143-c85a06e18f93 button.colab-df-convert');\n",
              "        buttonEl.style.display =\n",
              "          google.colab.kernel.accessAllowed ? 'block' : 'none';\n",
              "\n",
              "        async function convertToInteractive(key) {\n",
              "          const element = document.querySelector('#df-75ae6baa-e3f3-491f-9143-c85a06e18f93');\n",
              "          const dataTable =\n",
              "            await google.colab.kernel.invokeFunction('convertToInteractive',\n",
              "                                                     [key], {});\n",
              "          if (!dataTable) return;\n",
              "\n",
              "          const docLinkHtml = 'Like what you see? Visit the ' +\n",
              "            '<a target=\"_blank\" href=https://colab.research.google.com/notebooks/data_table.ipynb>data table notebook</a>'\n",
              "            + ' to learn more about interactive tables.';\n",
              "          element.innerHTML = '';\n",
              "          dataTable['output_type'] = 'display_data';\n",
              "          await google.colab.output.renderOutput(dataTable, element);\n",
              "          const docLink = document.createElement('div');\n",
              "          docLink.innerHTML = docLinkHtml;\n",
              "          element.appendChild(docLink);\n",
              "        }\n",
              "      </script>\n",
              "    </div>\n",
              "  </div>\n",
              "  "
            ]
          },
          "metadata": {},
          "execution_count": 66
        }
      ]
    },
    {
      "cell_type": "code",
      "source": [
        "data.info()"
      ],
      "metadata": {
        "colab": {
          "base_uri": "https://localhost:8080/"
        },
        "id": "aZQBRJT_j0PR",
        "outputId": "fded4e6d-f67b-4b92-b2c6-73e1dfaf6c04"
      },
      "execution_count": null,
      "outputs": [
        {
          "output_type": "stream",
          "name": "stdout",
          "text": [
            "<class 'pandas.core.frame.DataFrame'>\n",
            "Int64Index: 53187 entries, 0 to 53186\n",
            "Columns: 785 entries, pixel_0 to label\n",
            "dtypes: float64(784), object(1)\n",
            "memory usage: 318.9+ MB\n"
          ]
        }
      ]
    },
    {
      "cell_type": "code",
      "source": [
        "# Store the DataFrame as a CSV file\n",
        "data.to_csv(\"handwritten_arabic_letters_final.csv\", index=False)"
      ],
      "metadata": {
        "id": "FZi88Hynjz-8"
      },
      "execution_count": null,
      "outputs": []
    },
    {
      "cell_type": "code",
      "source": [
        "from google.colab import files\n",
        "\n",
        "files.download(\"handwritten_arabic_letters_final.csv\")"
      ],
      "metadata": {
        "colab": {
          "base_uri": "https://localhost:8080/",
          "height": 17
        },
        "id": "qR2QVaNlr_jw",
        "outputId": "62297810-3fe6-4e71-c87c-e05de78ae37a"
      },
      "execution_count": null,
      "outputs": [
        {
          "output_type": "display_data",
          "data": {
            "text/plain": [
              "<IPython.core.display.Javascript object>"
            ],
            "application/javascript": [
              "\n",
              "    async function download(id, filename, size) {\n",
              "      if (!google.colab.kernel.accessAllowed) {\n",
              "        return;\n",
              "      }\n",
              "      const div = document.createElement('div');\n",
              "      const label = document.createElement('label');\n",
              "      label.textContent = `Downloading \"${filename}\": `;\n",
              "      div.appendChild(label);\n",
              "      const progress = document.createElement('progress');\n",
              "      progress.max = size;\n",
              "      div.appendChild(progress);\n",
              "      document.body.appendChild(div);\n",
              "\n",
              "      const buffers = [];\n",
              "      let downloaded = 0;\n",
              "\n",
              "      const channel = await google.colab.kernel.comms.open(id);\n",
              "      // Send a message to notify the kernel that we're ready.\n",
              "      channel.send({})\n",
              "\n",
              "      for await (const message of channel.messages) {\n",
              "        // Send a message to notify the kernel that we're ready.\n",
              "        channel.send({})\n",
              "        if (message.buffers) {\n",
              "          for (const buffer of message.buffers) {\n",
              "            buffers.push(buffer);\n",
              "            downloaded += buffer.byteLength;\n",
              "            progress.value = downloaded;\n",
              "          }\n",
              "        }\n",
              "      }\n",
              "      const blob = new Blob(buffers, {type: 'application/binary'});\n",
              "      const a = document.createElement('a');\n",
              "      a.href = window.URL.createObjectURL(blob);\n",
              "      a.download = filename;\n",
              "      div.appendChild(a);\n",
              "      a.click();\n",
              "      div.remove();\n",
              "    }\n",
              "  "
            ]
          },
          "metadata": {}
        },
        {
          "output_type": "display_data",
          "data": {
            "text/plain": [
              "<IPython.core.display.Javascript object>"
            ],
            "application/javascript": [
              "download(\"download_8f0d0174-b40f-469d-99f2-b40a71046335\", \"handwritten_arabic_letters.csv\", 294909282)"
            ]
          },
          "metadata": {}
        }
      ]
    },
    {
      "cell_type": "code",
      "source": [
        "!cp handwritten_arabic_letters_final.csv \"gdrive/My Drive/arabic-ocr/\""
      ],
      "metadata": {
        "id": "Sr9dBTLQsbHi"
      },
      "execution_count": null,
      "outputs": []
    },
    {
      "cell_type": "code",
      "source": [
        "data = pd.read_csv('/content/gdrive/MyDrive/arabic-ocr/handwritten_arabic_letters_final.csv')"
      ],
      "metadata": {
        "id": "9a4n3bbigbwF"
      },
      "execution_count": 4,
      "outputs": []
    },
    {
      "cell_type": "code",
      "source": [
        "X = data.drop(columns=['label'])\n",
        "first_row = np.asarray(list(X.iloc[1000])).reshape(28,28)\n",
        "plt.imshow(first_row)"
      ],
      "metadata": {
        "colab": {
          "base_uri": "https://localhost:8080/",
          "height": 283
        },
        "id": "9PYNd_EETdc9",
        "outputId": "263e0bf9-51e9-4038-d359-19b0bf8ddf5b"
      },
      "execution_count": 21,
      "outputs": [
        {
          "output_type": "execute_result",
          "data": {
            "text/plain": [
              "<matplotlib.image.AxesImage at 0x7fb107d49d60>"
            ]
          },
          "metadata": {},
          "execution_count": 21
        },
        {
          "output_type": "display_data",
          "data": {
            "text/plain": [
              "<Figure size 432x288 with 1 Axes>"
            ],
            "image/png": "[encoded data removed]"
          },
          "metadata": {
            "needs_background": "light"
          }
        }
      ]
    },
    {
      "cell_type": "code",
      "source": [
        "labels = data.label.unique()\n",
        "labels"
      ],
      "metadata": {
        "colab": {
          "base_uri": "https://localhost:8080/"
        },
        "id": "HAeyQDZIreZS",
        "outputId": "5c40e55c-807a-4c99-cb9d-5b3824a82552"
      },
      "execution_count": 5,
      "outputs": [
        {
          "output_type": "execute_result",
          "data": {
            "text/plain": [
              "array(['sad_regular', 'alif_regular', 'alif_end', 'ain_begin',\n",
              "       'kaf_regular', 'kaf_middle', 'qaf_regular', 'alif_hamza',\n",
              "       'noon_end', 'jeem_begin', 'ain_middle', 'lam_middle', 'tah_end',\n",
              "       'ain_regular', 'qaf_middle', 'feh_begin', 'seen_middle',\n",
              "       'tah_middle', 'heh_begin', 'meem_end', 'lam_begin', 'dal_regular',\n",
              "       'jeem_regular', 'seen_end', 'heh_end', 'feh_regular', 'beh_middle',\n",
              "       'waw_regular', 'raa_regular', 'feh_middle', 'dal_end',\n",
              "       'meem_begin', 'noon_regular', 'qaf_begin', 'meem_middle',\n",
              "       'lam_alif', 'tah_regular', 'sad_middle', 'jeem_middle', 'waw_end',\n",
              "       'sad_end', 'beh_end', 'heh_regular', 'feh_end', 'ain_end',\n",
              "       'seen_regular', 'heh_middle', 'beh_regular', 'yaa_begin',\n",
              "       'lam_end', 'raa_end', 'noon_begin', 'beh_begin', 'kaf_begin',\n",
              "       'kaf_end', 'noon_middle', 'meem_regular', 'seen_begin', 'jeem_end',\n",
              "       'qaf_end', 'sad_begin', 'yaa_middle', 'yaa_end', 'yaa_regular',\n",
              "       'lam_regular'], dtype=object)"
            ]
          },
          "metadata": {},
          "execution_count": 5
        }
      ]
    },
    {
      "cell_type": "code",
      "source": [
        "data.label = data.label.apply(lambda x: x.split('_')[0])\n",
        "label_map = {'ain':0,\n",
        "          'alif':1,\n",
        "          'beh':2,\n",
        "          'dal':3,\n",
        "          'feh':4,\n",
        "          'heh':5,\n",
        "          'jeem':6,\n",
        "          'kaf':7,\n",
        "          'lam':8,\n",
        "          'meem':9,\n",
        "          'noon':10,\n",
        "          'qaf':11,\n",
        "          'raa':12,\n",
        "          'sad':13,\n",
        "          'seen':14,\n",
        "          'tah':15,\n",
        "          'waw':16,\n",
        "          'yaa':17\n",
        "          }"
      ],
      "metadata": {
        "id": "SEe5DE5oxpYN"
      },
      "execution_count": 6,
      "outputs": []
    },
    {
      "cell_type": "code",
      "source": [
        "# Use the map function to transform the labels\n",
        "data.label = data.label.map(label_map)\n",
        "data.label"
      ],
      "metadata": {
        "colab": {
          "base_uri": "https://localhost:8080/"
        },
        "id": "E9koiLdZy_po",
        "outputId": "58d809ca-b867-4172-d7f3-087e28dd7820"
      },
      "execution_count": 7,
      "outputs": [
        {
          "output_type": "execute_result",
          "data": {
            "text/plain": [
              "0        13\n",
              "1        13\n",
              "2        13\n",
              "3        13\n",
              "4        13\n",
              "         ..\n",
              "53182     8\n",
              "53183     8\n",
              "53184     8\n",
              "53185     8\n",
              "53186     8\n",
              "Name: label, Length: 53187, dtype: int64"
            ]
          },
          "metadata": {},
          "execution_count": 7
        }
      ]
    },
    {
      "cell_type": "code",
      "source": [
        "data.info()"
      ],
      "metadata": {
        "colab": {
          "base_uri": "https://localhost:8080/"
        },
        "id": "6a_ilVeszmzn",
        "outputId": "47d2cfdd-c8bf-4339-bb70-7a9a8b8e2284"
      },
      "execution_count": 8,
      "outputs": [
        {
          "output_type": "stream",
          "name": "stdout",
          "text": [
            "<class 'pandas.core.frame.DataFrame'>\n",
            "RangeIndex: 53187 entries, 0 to 53186\n",
            "Columns: 785 entries, pixel_0 to label\n",
            "dtypes: float64(784), int64(1)\n",
            "memory usage: 318.5 MB\n"
          ]
        }
      ]
    },
    {
      "cell_type": "code",
      "source": [
        "from sklearn.model_selection import train_test_split\n",
        "from sklearn.preprocessing import MinMaxScaler\n",
        "from sklearn.ensemble import RandomForestClassifier\n",
        "from sklearn.model_selection import GridSearchCV\n",
        "from sklearn.metrics import accuracy_score, confusion_matrix, classification_report"
      ],
      "metadata": {
        "id": "V51tYqeB1CUJ"
      },
      "execution_count": 9,
      "outputs": []
    },
    {
      "cell_type": "code",
      "source": [
        "X = data.drop(columns=['label'])\n",
        "y = data['label']"
      ],
      "metadata": {
        "id": "0x75qoqzdrhG"
      },
      "execution_count": 10,
      "outputs": []
    },
    {
      "cell_type": "code",
      "source": [
        "# View count of each class\n",
        "y.value_counts()"
      ],
      "metadata": {
        "colab": {
          "base_uri": "https://localhost:8080/"
        },
        "id": "c1eWnagfF8L_",
        "outputId": "b0e702d7-d6bb-4f74-8c8f-6c12965a86f2"
      },
      "execution_count": 11,
      "outputs": [
        {
          "output_type": "execute_result",
          "data": {
            "text/plain": [
              "8     4099\n",
              "17    3280\n",
              "0     3280\n",
              "7     3280\n",
              "9     3280\n",
              "14    3280\n",
              "6     3280\n",
              "13    3279\n",
              "2     3278\n",
              "5     3260\n",
              "11    3259\n",
              "10    3250\n",
              "4     3250\n",
              "15    2459\n",
              "1     2454\n",
              "3     1640\n",
              "16    1640\n",
              "12    1639\n",
              "Name: label, dtype: int64"
            ]
          },
          "metadata": {},
          "execution_count": 11
        }
      ]
    },
    {
      "cell_type": "code",
      "source": [
        "# Split the DataFrame into training and test sets\n",
        "X_train, X_test, y_train, y_test = train_test_split(X, y, test_size=0.2,random_state=101, stratify=y)"
      ],
      "metadata": {
        "id": "kGqTGUY4iONe"
      },
      "execution_count": 12,
      "outputs": []
    },
    {
      "cell_type": "code",
      "source": [
        "# Create a MinMaxScaler object\n",
        "scaler = MinMaxScaler()\n",
        "\n",
        "# Fit the scaler to the data and transform the data\n",
        "X_train = scaler.fit_transform(X_train)\n",
        "X_test = scaler.transform(X_test)"
      ],
      "metadata": {
        "id": "bVcNqEnAhryB"
      },
      "execution_count": 13,
      "outputs": []
    },
    {
      "cell_type": "code",
      "source": [
        "# Train a random forest classifier\n",
        "clf = RandomForestClassifier(n_estimators=200, max_features='sqrt')\n",
        "clf.fit(X_train, y_train)\n",
        "\n",
        "# Test the classifier on the test set\n",
        "accuracy = clf.score(X_test, y_test)\n",
        "print(f'Test accuracy: {accuracy:.2f}')"
      ],
      "metadata": {
        "colab": {
          "base_uri": "https://localhost:8080/"
        },
        "id": "y2TR5nHBzqKW",
        "outputId": "c22b1e27-b247-4ac5-dcbe-345b0bf9b0eb"
      },
      "execution_count": 14,
      "outputs": [
        {
          "output_type": "stream",
          "name": "stdout",
          "text": [
            "Test accuracy: 0.78\n"
          ]
        }
      ]
    },
    {
      "cell_type": "code",
      "source": [
        "# Test the classifier on the test set\n",
        "accuracy = clf.score(X_train, y_train)\n",
        "print(f'Train accuracy: {accuracy:.2f}')"
      ],
      "metadata": {
        "colab": {
          "base_uri": "https://localhost:8080/"
        },
        "id": "Y9QZTZJH3j52",
        "outputId": "6e3ae411-52f6-4796-fa76-a749417918f4"
      },
      "execution_count": 15,
      "outputs": [
        {
          "output_type": "stream",
          "name": "stdout",
          "text": [
            "Train accuracy: 1.00\n"
          ]
        }
      ]
    },
    {
      "cell_type": "code",
      "source": [
        "# Make predictions for the test set\n",
        "y_pred_test = clf.predict(X_test)"
      ],
      "metadata": {
        "id": "2LN2StiCE2_f"
      },
      "execution_count": 16,
      "outputs": []
    },
    {
      "cell_type": "code",
      "source": [
        "# View accuracy score\n",
        "accuracy_score(y_test, y_pred_test)"
      ],
      "metadata": {
        "colab": {
          "base_uri": "https://localhost:8080/"
        },
        "id": "fqzhjJeJGsvJ",
        "outputId": "4c40b7ff-6b56-4d28-b136-d5d12c347e7a"
      },
      "execution_count": 17,
      "outputs": [
        {
          "output_type": "execute_result",
          "data": {
            "text/plain": [
              "0.7840759541267156"
            ]
          },
          "metadata": {},
          "execution_count": 17
        }
      ]
    },
    {
      "cell_type": "code",
      "source": [
        "import seaborn as sns\n",
        "# Get and reshape confusion matrix data\n",
        "matrix = confusion_matrix(y_test, y_pred_test)\n",
        "matrix = matrix.astype('float') / matrix.sum(axis=1)[:, np.newaxis]\n",
        "\n",
        "# Build the plot\n",
        "plt.figure(figsize=(16,7))\n",
        "sns.set(font_scale=1.4)\n",
        "sns.heatmap(matrix, annot=True, annot_kws={'size':10},\n",
        "            cmap=plt.cm.Greens, linewidths=0.2)\n",
        "\n",
        "# Add labels to the plot\n",
        "class_names = [k for k, v in label_map.items()]\n",
        "tick_marks = np.arange(len(class_names))\n",
        "tick_marks2 = tick_marks + 0.5\n",
        "plt.xticks(tick_marks, class_names, rotation=25)\n",
        "plt.yticks(tick_marks2, class_names, rotation=0)\n",
        "plt.xlabel('Predicted label')\n",
        "plt.ylabel('True label')\n",
        "plt.title('Confusion Matrix')\n",
        "plt.show()"
      ],
      "metadata": {
        "colab": {
          "base_uri": "https://localhost:8080/",
          "height": 497
        },
        "id": "Wp3aMYvNIGfA",
        "outputId": "81906873-cb4a-44c5-bf3c-d8af1dbe772a"
      },
      "execution_count": 21,
      "outputs": [
        {
          "output_type": "display_data",
          "data": {
            "text/plain": [
              "<Figure size 1152x504 with 2 Axes>"
            ],
            "image/png": "[encoded data removed]"
          },
          "metadata": {}
        }
      ]
    },
    {
      "cell_type": "code",
      "source": [
        "import joblib\n",
        "joblib.dump(clf,open('HandwrittenModel.joblib','wb'))"
      ],
      "metadata": {
        "id": "77htT9zn94BO"
      },
      "execution_count": 17,
      "outputs": []
    },
    {
      "cell_type": "code",
      "source": [
        "image_test = cv2.imread('/content/isolated_alphabets_per_alphabet/ain_begin/user001_ain_begin_031.png')\n",
        "Im = cleaned_image(image_test)\n",
        "vect = Im.flatten().tolist()\n",
        "value = clf.predict([vect])[0]\n",
        "key = [k for k, v in label_map.items() if v == value]\n",
        "plt.title('The class predicted for image is ' + key[0])\n",
        "plt.imshow(image_test)\n",
        "plt.show()"
      ],
      "metadata": {
        "colab": {
          "base_uri": "https://localhost:8080/",
          "height": 231
        },
        "id": "wNSUuSDT33xM",
        "outputId": "63e9f79b-8fd8-43ca-b779-e80e2addd402"
      },
      "execution_count": 18,
      "outputs": [
        {
          "output_type": "display_data",
          "data": {
            "text/plain": [
              "<Figure size 432x288 with 1 Axes>"
            ],
            "image/png": "[encoded data removed]"
          },
          "metadata": {
            "needs_background": "light"
          }
        }
      ]
    },
    {
      "cell_type": "code",
      "source": [
        "parameters = {'n_estimators': [100, 150, 200, 250],\n",
        "              'max_depth': [None, 10, 20, 30],\n",
        "              'max_features': ['sqrt', 'log2']}"
      ],
      "metadata": {
        "id": "2Kzom8jZr5-3"
      },
      "execution_count": 17,
      "outputs": []
    },
    {
      "cell_type": "code",
      "source": [
        "parameters = {'n_estimators': [250,300,350,400]}"
      ],
      "metadata": {
        "id": "DZrT2F2K2mhi"
      },
      "execution_count": 22,
      "outputs": []
    },
    {
      "cell_type": "code",
      "source": [
        "# Create a random forest classifier\n",
        "clf = RandomForestClassifier()\n",
        "\n",
        "# Use grid search to find the best hyperparameters\n",
        "grid_search = GridSearchCV(clf, parameters, cv=5)\n",
        "# Fit the grid search object to the training data\n",
        "grid_search.fit(X_train, y_train)"
      ],
      "metadata": {
        "id": "zprdWShwp97p"
      },
      "execution_count": null,
      "outputs": []
    },
    {
      "cell_type": "code",
      "source": [
        "# Get the best hyperparameters\n",
        "best_params = grid_search.best_params_\n",
        "\n",
        "# Get the best score\n",
        "best_score = grid_search.best_score_\n"
      ],
      "metadata": {
        "id": "Dzc1C0y4rph-"
      },
      "execution_count": 19,
      "outputs": []
    },
    {
      "cell_type": "code",
      "source": [
        "best_params"
      ],
      "metadata": {
        "colab": {
          "base_uri": "https://localhost:8080/"
        },
        "id": "ahz7ukE5tJKv",
        "outputId": "d8a260b8-3b22-4cf7-fa36-96f2ae2fb67b"
      },
      "execution_count": 20,
      "outputs": [
        {
          "output_type": "execute_result",
          "data": {
            "text/plain": [
              "{'max_depth': None, 'max_features': 'sqrt', 'n_estimators': 250}"
            ]
          },
          "metadata": {},
          "execution_count": 20
        }
      ]
    },
    {
      "cell_type": "code",
      "source": [
        "best_score"
      ],
      "metadata": {
        "colab": {
          "base_uri": "https://localhost:8080/"
        },
        "id": "rRYoJq88tFZm",
        "outputId": "a876d144-b9c1-433d-9a24-9513cf1a7e49"
      },
      "execution_count": 21,
      "outputs": [
        {
          "output_type": "execute_result",
          "data": {
            "text/plain": [
              "0.7737196600709915"
            ]
          },
          "metadata": {},
          "execution_count": 21
        }
      ]
    },
    {
      "cell_type": "code",
      "source": [],
      "metadata": {
        "id": "sk676Y88tyoR"
      },
      "execution_count": null,
      "outputs": []
    }
  ]
}